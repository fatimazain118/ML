{
  "nbformat": 4,
  "nbformat_minor": 0,
  "metadata": {
    "kernelspec": {
      "display_name": "Python 3 (ipykernel)",
      "language": "python",
      "name": "python3"
    },
    "language_info": {
      "codemirror_mode": {
        "name": "ipython",
        "version": 3
      },
      "file_extension": ".py",
      "mimetype": "text/x-python",
      "name": "python",
      "nbconvert_exporter": "python",
      "pygments_lexer": "ipython3",
      "version": "3.8.8"
    },
    "colab": {
      "name": "DecisionTree_BinaryClassification.ipynb",
      "provenance": [],
      "include_colab_link": true
    }
  },
  "cells": [
    {
      "cell_type": "markdown",
      "metadata": {
        "id": "view-in-github",
        "colab_type": "text"
      },
      "source": [
        "<a href=\"https://colab.research.google.com/github/fatimazain118/ML/blob/main/Lab4/DecisionTree_BinaryClassification.ipynb\" target=\"_parent\"><img src=\"https://colab.research.google.com/assets/colab-badge.svg\" alt=\"Open In Colab\"/></a>"
      ]
    },
    {
      "cell_type": "code",
      "metadata": {
        "id": "Aen21dk1jdnL"
      },
      "source": [
        "import numpy as np \n",
        "import pandas as pd\n",
        "from sklearn.utils import shuffle\n",
        "from sklearn.model_selection import train_test_split\n",
        "\n",
        "from sklearn import metrics\n",
        "from sklearn.linear_model import LogisticRegression\n",
        "\n",
        "import logging,sys\n"
      ],
      "execution_count": 460,
      "outputs": []
    },
    {
      "cell_type": "code",
      "metadata": {
        "colab": {
          "base_uri": "https://localhost:8080/"
        },
        "id": "Z1eFKp6FjoC1",
        "outputId": "1a18e269-8f62-4691-a5a4-914b57a61e73"
      },
      "source": [
        "from google.colab import drive  \n",
        "drive.mount('/content/gdrive')"
      ],
      "execution_count": 461,
      "outputs": [
        {
          "output_type": "stream",
          "name": "stdout",
          "text": [
            "Drive already mounted at /content/gdrive; to attempt to forcibly remount, call drive.mount(\"/content/gdrive\", force_remount=True).\n"
          ]
        }
      ]
    },
    {
      "cell_type": "code",
      "metadata": {
        "id": "9SwWjGUEjdnT"
      },
      "source": [
        "df = pd.read_csv(\"/content/gdrive/MyDrive/binary.csv.zip\") "
      ],
      "execution_count": 462,
      "outputs": []
    },
    {
      "cell_type": "code",
      "metadata": {
        "colab": {
          "base_uri": "https://localhost:8080/"
        },
        "id": "zDk_a5_b98sX",
        "outputId": "cac42d0c-63da-4212-c09b-66ab1aca40f1"
      },
      "source": [
        "df.columns"
      ],
      "execution_count": 463,
      "outputs": [
        {
          "output_type": "execute_result",
          "data": {
            "text/plain": [
              "Index(['admit', 'gre', 'gpa', 'rank'], dtype='object')"
            ]
          },
          "metadata": {},
          "execution_count": 463
        }
      ]
    },
    {
      "cell_type": "code",
      "metadata": {
        "colab": {
          "base_uri": "https://localhost:8080/",
          "height": 203
        },
        "id": "HQDCa1Rr-ceB",
        "outputId": "deae1322-7df2-4eb1-8a8e-6cf7b73f436f"
      },
      "source": [
        "df.head()"
      ],
      "execution_count": 464,
      "outputs": [
        {
          "output_type": "execute_result",
          "data": {
            "text/html": [
              "<div>\n",
              "<style scoped>\n",
              "    .dataframe tbody tr th:only-of-type {\n",
              "        vertical-align: middle;\n",
              "    }\n",
              "\n",
              "    .dataframe tbody tr th {\n",
              "        vertical-align: top;\n",
              "    }\n",
              "\n",
              "    .dataframe thead th {\n",
              "        text-align: right;\n",
              "    }\n",
              "</style>\n",
              "<table border=\"1\" class=\"dataframe\">\n",
              "  <thead>\n",
              "    <tr style=\"text-align: right;\">\n",
              "      <th></th>\n",
              "      <th>admit</th>\n",
              "      <th>gre</th>\n",
              "      <th>gpa</th>\n",
              "      <th>rank</th>\n",
              "    </tr>\n",
              "  </thead>\n",
              "  <tbody>\n",
              "    <tr>\n",
              "      <th>0</th>\n",
              "      <td>0</td>\n",
              "      <td>380</td>\n",
              "      <td>3.61</td>\n",
              "      <td>3</td>\n",
              "    </tr>\n",
              "    <tr>\n",
              "      <th>1</th>\n",
              "      <td>1</td>\n",
              "      <td>660</td>\n",
              "      <td>3.67</td>\n",
              "      <td>3</td>\n",
              "    </tr>\n",
              "    <tr>\n",
              "      <th>2</th>\n",
              "      <td>1</td>\n",
              "      <td>800</td>\n",
              "      <td>4.00</td>\n",
              "      <td>1</td>\n",
              "    </tr>\n",
              "    <tr>\n",
              "      <th>3</th>\n",
              "      <td>1</td>\n",
              "      <td>640</td>\n",
              "      <td>3.19</td>\n",
              "      <td>4</td>\n",
              "    </tr>\n",
              "    <tr>\n",
              "      <th>4</th>\n",
              "      <td>0</td>\n",
              "      <td>520</td>\n",
              "      <td>2.93</td>\n",
              "      <td>4</td>\n",
              "    </tr>\n",
              "  </tbody>\n",
              "</table>\n",
              "</div>"
            ],
            "text/plain": [
              "   admit  gre   gpa  rank\n",
              "0      0  380  3.61     3\n",
              "1      1  660  3.67     3\n",
              "2      1  800  4.00     1\n",
              "3      1  640  3.19     4\n",
              "4      0  520  2.93     4"
            ]
          },
          "metadata": {},
          "execution_count": 464
        }
      ]
    },
    {
      "cell_type": "code",
      "metadata": {
        "colab": {
          "base_uri": "https://localhost:8080/",
          "height": 386
        },
        "id": "BM8YQ8U4-mvk",
        "outputId": "f00c9dd5-8fa8-4f3f-e014-a22c6559609f"
      },
      "source": [
        "import seaborn as sns\n",
        "sns.lmplot(x = \"gre\", y = \"gpa\", data = df)"
      ],
      "execution_count": 465,
      "outputs": [
        {
          "output_type": "execute_result",
          "data": {
            "text/plain": [
              "<seaborn.axisgrid.FacetGrid at 0x7ffab8df01d0>"
            ]
          },
          "metadata": {},
          "execution_count": 465
        },
        {
          "output_type": "display_data",
          "data": {
            "image/png": "[encoded data removed]",
            "text/plain": [
              "<Figure size 360x360 with 1 Axes>"
            ]
          },
          "metadata": {
            "needs_background": "light"
          }
        }
      ]
    },
    {
      "cell_type": "code",
      "metadata": {
        "colab": {
          "base_uri": "https://localhost:8080/"
        },
        "id": "Z6q8O3IojdnU",
        "outputId": "45f002e1-5d4c-47a3-83b5-a0610e23a2c0"
      },
      "source": [
        "df[\"rank\"].unique()"
      ],
      "execution_count": 466,
      "outputs": [
        {
          "output_type": "execute_result",
          "data": {
            "text/plain": [
              "array([3, 1, 4, 2])"
            ]
          },
          "metadata": {},
          "execution_count": 466
        }
      ]
    },
    {
      "cell_type": "code",
      "metadata": {
        "colab": {
          "base_uri": "https://localhost:8080/"
        },
        "id": "HgjttjYmABq_",
        "outputId": "bcbc6eed-1820-4442-8d85-3dc65f559d6d"
      },
      "source": [
        "df[\"rank\"].describe()"
      ],
      "execution_count": 467,
      "outputs": [
        {
          "output_type": "execute_result",
          "data": {
            "text/plain": [
              "count    400.00000\n",
              "mean       2.48500\n",
              "std        0.94446\n",
              "min        1.00000\n",
              "25%        2.00000\n",
              "50%        2.00000\n",
              "75%        3.00000\n",
              "max        4.00000\n",
              "Name: rank, dtype: float64"
            ]
          },
          "metadata": {},
          "execution_count": 467
        }
      ]
    },
    {
      "cell_type": "code",
      "metadata": {
        "colab": {
          "base_uri": "https://localhost:8080/",
          "height": 172
        },
        "id": "7j_Dg7i6jdnW",
        "outputId": "8ec3830c-424d-4589-d17c-b0f7e2d26286"
      },
      "source": [
        "df.corr()"
      ],
      "execution_count": 468,
      "outputs": [
        {
          "output_type": "execute_result",
          "data": {
            "text/html": [
              "<div>\n",
              "<style scoped>\n",
              "    .dataframe tbody tr th:only-of-type {\n",
              "        vertical-align: middle;\n",
              "    }\n",
              "\n",
              "    .dataframe tbody tr th {\n",
              "        vertical-align: top;\n",
              "    }\n",
              "\n",
              "    .dataframe thead th {\n",
              "        text-align: right;\n",
              "    }\n",
              "</style>\n",
              "<table border=\"1\" class=\"dataframe\">\n",
              "  <thead>\n",
              "    <tr style=\"text-align: right;\">\n",
              "      <th></th>\n",
              "      <th>admit</th>\n",
              "      <th>gre</th>\n",
              "      <th>gpa</th>\n",
              "      <th>rank</th>\n",
              "    </tr>\n",
              "  </thead>\n",
              "  <tbody>\n",
              "    <tr>\n",
              "      <th>admit</th>\n",
              "      <td>1.000000</td>\n",
              "      <td>0.184434</td>\n",
              "      <td>0.178212</td>\n",
              "      <td>-0.242513</td>\n",
              "    </tr>\n",
              "    <tr>\n",
              "      <th>gre</th>\n",
              "      <td>0.184434</td>\n",
              "      <td>1.000000</td>\n",
              "      <td>0.384266</td>\n",
              "      <td>-0.123447</td>\n",
              "    </tr>\n",
              "    <tr>\n",
              "      <th>gpa</th>\n",
              "      <td>0.178212</td>\n",
              "      <td>0.384266</td>\n",
              "      <td>1.000000</td>\n",
              "      <td>-0.057461</td>\n",
              "    </tr>\n",
              "    <tr>\n",
              "      <th>rank</th>\n",
              "      <td>-0.242513</td>\n",
              "      <td>-0.123447</td>\n",
              "      <td>-0.057461</td>\n",
              "      <td>1.000000</td>\n",
              "    </tr>\n",
              "  </tbody>\n",
              "</table>\n",
              "</div>"
            ],
            "text/plain": [
              "          admit       gre       gpa      rank\n",
              "admit  1.000000  0.184434  0.178212 -0.242513\n",
              "gre    0.184434  1.000000  0.384266 -0.123447\n",
              "gpa    0.178212  0.384266  1.000000 -0.057461\n",
              "rank  -0.242513 -0.123447 -0.057461  1.000000"
            ]
          },
          "metadata": {},
          "execution_count": 468
        }
      ]
    },
    {
      "cell_type": "markdown",
      "metadata": {
        "id": "TwhUiPeVjdnX"
      },
      "source": [
        "Diagonal is all 1's because each feature is 100% correlated with itself."
      ]
    },
    {
      "cell_type": "code",
      "metadata": {
        "id": "fzAURxJyjdnZ"
      },
      "source": [
        "from sklearn.model_selection import train_test_split\n",
        "\n",
        "from sklearn import metrics\n",
        "from sklearn.linear_model import LogisticRegression   #Classification"
      ],
      "execution_count": 469,
      "outputs": []
    },
    {
      "cell_type": "code",
      "metadata": {
        "colab": {
          "base_uri": "https://localhost:8080/",
          "height": 172
        },
        "id": "cUR31f3Jjdnb",
        "outputId": "834efb43-5b15-480c-90ca-71f079997ef8"
      },
      "source": [
        "df.corr()   "
      ],
      "execution_count": 470,
      "outputs": [
        {
          "output_type": "execute_result",
          "data": {
            "text/html": [
              "<div>\n",
              "<style scoped>\n",
              "    .dataframe tbody tr th:only-of-type {\n",
              "        vertical-align: middle;\n",
              "    }\n",
              "\n",
              "    .dataframe tbody tr th {\n",
              "        vertical-align: top;\n",
              "    }\n",
              "\n",
              "    .dataframe thead th {\n",
              "        text-align: right;\n",
              "    }\n",
              "</style>\n",
              "<table border=\"1\" class=\"dataframe\">\n",
              "  <thead>\n",
              "    <tr style=\"text-align: right;\">\n",
              "      <th></th>\n",
              "      <th>admit</th>\n",
              "      <th>gre</th>\n",
              "      <th>gpa</th>\n",
              "      <th>rank</th>\n",
              "    </tr>\n",
              "  </thead>\n",
              "  <tbody>\n",
              "    <tr>\n",
              "      <th>admit</th>\n",
              "      <td>1.000000</td>\n",
              "      <td>0.184434</td>\n",
              "      <td>0.178212</td>\n",
              "      <td>-0.242513</td>\n",
              "    </tr>\n",
              "    <tr>\n",
              "      <th>gre</th>\n",
              "      <td>0.184434</td>\n",
              "      <td>1.000000</td>\n",
              "      <td>0.384266</td>\n",
              "      <td>-0.123447</td>\n",
              "    </tr>\n",
              "    <tr>\n",
              "      <th>gpa</th>\n",
              "      <td>0.178212</td>\n",
              "      <td>0.384266</td>\n",
              "      <td>1.000000</td>\n",
              "      <td>-0.057461</td>\n",
              "    </tr>\n",
              "    <tr>\n",
              "      <th>rank</th>\n",
              "      <td>-0.242513</td>\n",
              "      <td>-0.123447</td>\n",
              "      <td>-0.057461</td>\n",
              "      <td>1.000000</td>\n",
              "    </tr>\n",
              "  </tbody>\n",
              "</table>\n",
              "</div>"
            ],
            "text/plain": [
              "          admit       gre       gpa      rank\n",
              "admit  1.000000  0.184434  0.178212 -0.242513\n",
              "gre    0.184434  1.000000  0.384266 -0.123447\n",
              "gpa    0.178212  0.384266  1.000000 -0.057461\n",
              "rank  -0.242513 -0.123447 -0.057461  1.000000"
            ]
          },
          "metadata": {},
          "execution_count": 470
        }
      ]
    },
    {
      "cell_type": "markdown",
      "metadata": {
        "id": "XneJNeEpjdnd"
      },
      "source": [
        "# Decision Tree"
      ]
    },
    {
      "cell_type": "code",
      "metadata": {
        "id": "zPNqUKIrjdne"
      },
      "source": [
        "#Splitting independent data and targeted data as test and train\n",
        "X_train, X_test, Y_train, Y_test= train_test_split(df[[\"gpa\",\"gre\",\"rank\"]],\n",
        "                                                   df[[\"admit\"]],test_size=0.10,\n",
        "                                                   random_state= 20)"
      ],
      "execution_count": 471,
      "outputs": []
    },
    {
      "cell_type": "code",
      "metadata": {
        "colab": {
          "base_uri": "https://localhost:8080/"
        },
        "id": "wI9b1xH9qSow",
        "outputId": "957e0be7-db9c-4fc7-be67-bb2672f42fab"
      },
      "source": [
        "X_train.shape"
      ],
      "execution_count": 472,
      "outputs": [
        {
          "output_type": "execute_result",
          "data": {
            "text/plain": [
              "(360, 3)"
            ]
          },
          "metadata": {},
          "execution_count": 472
        }
      ]
    },
    {
      "cell_type": "code",
      "metadata": {
        "colab": {
          "base_uri": "https://localhost:8080/"
        },
        "id": "FBL62zkxqdC0",
        "outputId": "0f9d7d5f-215f-4402-ae8e-68949bc818f2"
      },
      "source": [
        "X_test.shape"
      ],
      "execution_count": 473,
      "outputs": [
        {
          "output_type": "execute_result",
          "data": {
            "text/plain": [
              "(40, 3)"
            ]
          },
          "metadata": {},
          "execution_count": 473
        }
      ]
    },
    {
      "cell_type": "code",
      "metadata": {
        "id": "7q_P4sh3jdng"
      },
      "source": [
        "#clf_entropy=LogisticRegression()  \n",
        "from sklearn.tree import DecisionTreeClassifier\n",
        "clf_entropy = DecisionTreeClassifier(criterion = 'gini', max_depth=4, min_samples_leaf=4)   #in criterion we can also use gini or entropy, also parameters can be use like max_depth=8, min_samples_leaf=4"
      ],
      "execution_count": 474,
      "outputs": []
    },
    {
      "cell_type": "code",
      "metadata": {
        "colab": {
          "base_uri": "https://localhost:8080/"
        },
        "id": "1Kxu58jyjdnh",
        "outputId": "593858be-a420-4562-b6b6-1678100f77e4"
      },
      "source": [
        "clf_entropy.fit(X_train,Y_train)"
      ],
      "execution_count": 475,
      "outputs": [
        {
          "output_type": "execute_result",
          "data": {
            "text/plain": [
              "DecisionTreeClassifier(ccp_alpha=0.0, class_weight=None, criterion='gini',\n",
              "                       max_depth=4, max_features=None, max_leaf_nodes=None,\n",
              "                       min_impurity_decrease=0.0, min_impurity_split=None,\n",
              "                       min_samples_leaf=4, min_samples_split=2,\n",
              "                       min_weight_fraction_leaf=0.0, presort='deprecated',\n",
              "                       random_state=None, splitter='best')"
            ]
          },
          "metadata": {},
          "execution_count": 475
        }
      ]
    },
    {
      "cell_type": "code",
      "metadata": {
        "id": "_mijjUKgxGF0"
      },
      "source": [
        "#clf_entropy.get_depth()  #full depth of tree k liye pehle data ko fit kro"
      ],
      "execution_count": 476,
      "outputs": []
    },
    {
      "cell_type": "code",
      "metadata": {
        "id": "nn_mBdnIjdni"
      },
      "source": [
        "#predicting test data values for clf_entropy model\n",
        "predicted_entropy = clf_entropy.predict(X_test)"
      ],
      "execution_count": 477,
      "outputs": []
    },
    {
      "cell_type": "code",
      "metadata": {
        "scrolled": false,
        "colab": {
          "base_uri": "https://localhost:8080/"
        },
        "id": "3nREp1b1jdnj",
        "outputId": "f7e2aeab-54db-4b61-b270-48569b43f4c2"
      },
      "source": [
        "#Confusion Matrix\n",
        "from  sklearn.metrics import confusion_matrix \n",
        "cM = confusion_matrix(Y_test,predicted_entropy)\n",
        "print(cM)\n",
        "#generic matrix\n",
        "tn, fp, fn, tp = cM.ravel()    #tn= not admitted #0=admitted, 1= not admitted\n",
        "recall = tp/(tp+fn)\n",
        "precision=tp/(tp+fp)\n",
        "print(\"Recall = Sensitivity = \",tp/(tp+fn))\n",
        "print(\"Specificity =\", tn/(tn+fp))\n",
        "print(\"Accuracy=\",(tp+tn)/(tp+tn+fp+fn))\n",
        "print(\"Precision=\",tp/(tp+fp))\n",
        "f1score= 2 *(recall*precision)/(precision+recall)\n",
        "print(\"f1 score=\", f1score)\n"
      ],
      "execution_count": 478,
      "outputs": [
        {
          "output_type": "stream",
          "name": "stdout",
          "text": [
            "[[32  3]\n",
            " [ 4  1]]\n",
            "Recall = Sensitivity =  0.2\n",
            "Specificity = 0.9142857142857143\n",
            "Accuracy= 0.825\n",
            "Precision= 0.25\n",
            "f1 score= 0.22222222222222224\n"
          ]
        }
      ]
    },
    {
      "cell_type": "code",
      "metadata": {
        "colab": {
          "base_uri": "https://localhost:8080/",
          "height": 735
        },
        "id": "9rRWe59XtOHF",
        "outputId": "bfb3b0a7-e37a-4c71-e4d1-fc24f4309ca6"
      },
      "source": [
        "from sklearn.tree import plot_tree\n",
        "plot_tree(clf_entropy)"
      ],
      "execution_count": 479,
      "outputs": [
        {
          "output_type": "execute_result",
          "data": {
            "text/plain": [
              "[Text(170.3892857142857, 195.696, 'X[2] <= 2.5\\ngini = 0.448\\nsamples = 360\\nvalue = [238, 122]'),\n",
              " Text(95.65714285714286, 152.208, 'X[0] <= 3.41\\ngini = 0.495\\nsamples = 186\\nvalue = [102, 84]'),\n",
              " Text(47.82857142857143, 108.72, 'X[1] <= 750.0\\ngini = 0.44\\nsamples = 95\\nvalue = [64, 31]'),\n",
              " Text(23.914285714285715, 65.232, 'X[0] <= 3.21\\ngini = 0.41\\nsamples = 87\\nvalue = [62, 25]'),\n",
              " Text(11.957142857142857, 21.744, 'gini = 0.456\\nsamples = 54\\nvalue = [35, 19]'),\n",
              " Text(35.871428571428574, 21.744, 'gini = 0.298\\nsamples = 33\\nvalue = [27, 6]'),\n",
              " Text(71.74285714285715, 65.232, 'X[1] <= 790.0\\ngini = 0.375\\nsamples = 8\\nvalue = [2, 6]'),\n",
              " Text(59.785714285714285, 21.744, 'gini = 0.0\\nsamples = 4\\nvalue = [0, 4]'),\n",
              " Text(83.7, 21.744, 'gini = 0.5\\nsamples = 4\\nvalue = [2, 2]'),\n",
              " Text(143.4857142857143, 108.72, 'X[2] <= 1.5\\ngini = 0.486\\nsamples = 91\\nvalue = [38, 53]'),\n",
              " Text(119.57142857142857, 65.232, 'X[0] <= 3.675\\ngini = 0.35\\nsamples = 31\\nvalue = [7, 24]'),\n",
              " Text(107.61428571428571, 21.744, 'gini = 0.142\\nsamples = 13\\nvalue = [1, 12]'),\n",
              " Text(131.52857142857144, 21.744, 'gini = 0.444\\nsamples = 18\\nvalue = [6, 12]'),\n",
              " Text(167.4, 65.232, 'X[0] <= 3.495\\ngini = 0.499\\nsamples = 60\\nvalue = [31, 29]'),\n",
              " Text(155.44285714285715, 21.744, 'gini = 0.408\\nsamples = 14\\nvalue = [4, 10]'),\n",
              " Text(179.35714285714286, 21.744, 'gini = 0.485\\nsamples = 46\\nvalue = [27, 19]'),\n",
              " Text(245.12142857142857, 152.208, 'X[0] <= 3.465\\ngini = 0.341\\nsamples = 174\\nvalue = [136, 38]'),\n",
              " Text(203.27142857142857, 108.72, 'X[0] <= 2.69\\ngini = 0.222\\nsamples = 102\\nvalue = [89, 13]'),\n",
              " Text(191.31428571428572, 65.232, 'gini = 0.48\\nsamples = 5\\nvalue = [3, 2]'),\n",
              " Text(215.22857142857143, 65.232, 'X[1] <= 570.0\\ngini = 0.201\\nsamples = 97\\nvalue = [86, 11]'),\n",
              " Text(203.27142857142857, 21.744, 'gini = 0.124\\nsamples = 60\\nvalue = [56, 4]'),\n",
              " Text(227.18571428571428, 21.744, 'gini = 0.307\\nsamples = 37\\nvalue = [30, 7]'),\n",
              " Text(286.9714285714286, 108.72, 'X[0] <= 3.765\\ngini = 0.453\\nsamples = 72\\nvalue = [47, 25]'),\n",
              " Text(263.0571428571429, 65.232, 'X[0] <= 3.635\\ngini = 0.494\\nsamples = 38\\nvalue = [21, 17]'),\n",
              " Text(251.1, 21.744, 'gini = 0.444\\nsamples = 24\\nvalue = [16, 8]'),\n",
              " Text(275.01428571428573, 21.744, 'gini = 0.459\\nsamples = 14\\nvalue = [5, 9]'),\n",
              " Text(310.8857142857143, 65.232, 'X[0] <= 3.945\\ngini = 0.36\\nsamples = 34\\nvalue = [26, 8]'),\n",
              " Text(298.92857142857144, 21.744, 'gini = 0.188\\nsamples = 19\\nvalue = [17, 2]'),\n",
              " Text(322.84285714285716, 21.744, 'gini = 0.48\\nsamples = 15\\nvalue = [9, 6]')]"
            ]
          },
          "metadata": {},
          "execution_count": 479
        },
        {
          "output_type": "display_data",
          "data": {
            "image/png": "[encoded data removed]",
            "text/plain": [
              "<Figure size 432x288 with 1 Axes>"
            ]
          },
          "metadata": {
            "needs_background": "light"
          }
        }
      ]
    },
    {
      "cell_type": "code",
      "metadata": {
        "colab": {
          "base_uri": "https://localhost:8080/"
        },
        "id": "2MbcFYMljdnj",
        "outputId": "af7772f8-e55a-44b4-9c44-0fbbba9692bc"
      },
      "source": [
        "#For area under the curve\n",
        "from sklearn.metrics import roc_curve\n",
        "from sklearn.metrics import auc\n",
        "fpr, tpr, thresholds = roc_curve(Y_test,predicted_entropy)\n",
        "aucP = auc(fpr, tpr)\n",
        "aucP"
      ],
      "execution_count": 480,
      "outputs": [
        {
          "output_type": "execute_result",
          "data": {
            "text/plain": [
              "0.557142857142857"
            ]
          },
          "metadata": {},
          "execution_count": 480
        }
      ]
    },
    {
      "cell_type": "code",
      "metadata": {
        "id": "LuXqXUbqChf5"
      },
      "source": [
        "#clf_entropy.coef_"
      ],
      "execution_count": 481,
      "outputs": []
    },
    {
      "cell_type": "code",
      "metadata": {
        "id": "DALEqOihCna-"
      },
      "source": [
        "#clf_entropy.intercept_"
      ],
      "execution_count": 482,
      "outputs": []
    }
  ]
}