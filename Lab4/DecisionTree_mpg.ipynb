{
  "nbformat": 4,
  "nbformat_minor": 0,
  "metadata": {
    "kernelspec": {
      "display_name": "Python 3",
      "language": "python",
      "name": "python3"
    },
    "language_info": {
      "codemirror_mode": {
        "name": "ipython",
        "version": 3
      },
      "file_extension": ".py",
      "mimetype": "text/x-python",
      "name": "python",
      "nbconvert_exporter": "python",
      "pygments_lexer": "ipython3",
      "version": "3.8.5"
    },
    "colab": {
      "name": "DecisionTree_mpg.ipynb",
      "provenance": [],
      "include_colab_link": true
    }
  },
  "cells": [
    {
      "cell_type": "markdown",
      "metadata": {
        "id": "view-in-github",
        "colab_type": "text"
      },
      "source": [
        "<a href=\"https://colab.research.google.com/github/fatimazain118/ML/blob/main/Lab4/DecisionTree_mpg.ipynb\" target=\"_parent\"><img src=\"https://colab.research.google.com/assets/colab-badge.svg\" alt=\"Open In Colab\"/></a>"
      ]
    },
    {
      "cell_type": "code",
      "metadata": {
        "id": "PNihAfdT19Or"
      },
      "source": [
        "import numpy as np\n",
        "import pandas as pd\n",
        "import matplotlib.pyplot as plt\n",
        "import seaborn as sns\n"
      ],
      "execution_count": 425,
      "outputs": []
    },
    {
      "cell_type": "code",
      "metadata": {
        "colab": {
          "base_uri": "https://localhost:8080/"
        },
        "id": "pQu2YZ1I2msr",
        "outputId": "69a67d64-5405-40d3-a03e-9f60aa372df7"
      },
      "source": [
        "from google.colab import drive\n",
        "drive.mount(\"/content/gdrive\")"
      ],
      "execution_count": 426,
      "outputs": [
        {
          "output_type": "stream",
          "name": "stdout",
          "text": [
            "Drive already mounted at /content/gdrive; to attempt to forcibly remount, call drive.mount(\"/content/gdrive\", force_remount=True).\n"
          ]
        }
      ]
    },
    {
      "cell_type": "markdown",
      "metadata": {
        "id": "g69pGXRC19Ov"
      },
      "source": [
        "# Exploration and Visualization of MPG Data"
      ]
    },
    {
      "cell_type": "code",
      "metadata": {
        "id": "Kx6VASvH19Oz"
      },
      "source": [
        "data = pd.read_csv(\"/content/gdrive/MyDrive/mpg.csv.zip\")"
      ],
      "execution_count": 427,
      "outputs": []
    },
    {
      "cell_type": "code",
      "metadata": {
        "colab": {
          "base_uri": "https://localhost:8080/"
        },
        "id": "FFmATYpQ19O1",
        "outputId": "6e500c06-9fea-4aa0-920a-b2b82382f0c2"
      },
      "source": [
        "data.shape"
      ],
      "execution_count": 428,
      "outputs": [
        {
          "output_type": "execute_result",
          "data": {
            "text/plain": [
              "(398, 9)"
            ]
          },
          "metadata": {},
          "execution_count": 428
        }
      ]
    },
    {
      "cell_type": "code",
      "metadata": {
        "colab": {
          "base_uri": "https://localhost:8080/"
        },
        "id": "bqDBFxnh19O4",
        "outputId": "0b9dd452-99ee-44c3-8a20-d17bd46524ab"
      },
      "source": [
        "data.ndim"
      ],
      "execution_count": 429,
      "outputs": [
        {
          "output_type": "execute_result",
          "data": {
            "text/plain": [
              "2"
            ]
          },
          "metadata": {},
          "execution_count": 429
        }
      ]
    },
    {
      "cell_type": "code",
      "metadata": {
        "scrolled": true,
        "colab": {
          "base_uri": "https://localhost:8080/",
          "height": 453
        },
        "id": "79HfD_T_19O5",
        "outputId": "36415a02-0b79-4112-85ee-b3e6632840f2"
      },
      "source": [
        "data.head(n=7)"
      ],
      "execution_count": 430,
      "outputs": [
        {
          "output_type": "execute_result",
          "data": {
            "text/html": [
              "<div>\n",
              "<style scoped>\n",
              "    .dataframe tbody tr th:only-of-type {\n",
              "        vertical-align: middle;\n",
              "    }\n",
              "\n",
              "    .dataframe tbody tr th {\n",
              "        vertical-align: top;\n",
              "    }\n",
              "\n",
              "    .dataframe thead th {\n",
              "        text-align: right;\n",
              "    }\n",
              "</style>\n",
              "<table border=\"1\" class=\"dataframe\">\n",
              "  <thead>\n",
              "    <tr style=\"text-align: right;\">\n",
              "      <th></th>\n",
              "      <th>mpg</th>\n",
              "      <th>cylinders</th>\n",
              "      <th>displacement</th>\n",
              "      <th>horsepower</th>\n",
              "      <th>weight</th>\n",
              "      <th>acceleration</th>\n",
              "      <th>model_year</th>\n",
              "      <th>origin</th>\n",
              "      <th>name</th>\n",
              "    </tr>\n",
              "  </thead>\n",
              "  <tbody>\n",
              "    <tr>\n",
              "      <th>0</th>\n",
              "      <td>18.0</td>\n",
              "      <td>8</td>\n",
              "      <td>307.0</td>\n",
              "      <td>130</td>\n",
              "      <td>3504</td>\n",
              "      <td>12.0</td>\n",
              "      <td>70</td>\n",
              "      <td>1</td>\n",
              "      <td>chevrolet chevelle malibu</td>\n",
              "    </tr>\n",
              "    <tr>\n",
              "      <th>1</th>\n",
              "      <td>15.0</td>\n",
              "      <td>8</td>\n",
              "      <td>350.0</td>\n",
              "      <td>165</td>\n",
              "      <td>3693</td>\n",
              "      <td>11.5</td>\n",
              "      <td>70</td>\n",
              "      <td>1</td>\n",
              "      <td>buick skylark 320</td>\n",
              "    </tr>\n",
              "    <tr>\n",
              "      <th>2</th>\n",
              "      <td>18.0</td>\n",
              "      <td>8</td>\n",
              "      <td>318.0</td>\n",
              "      <td>150</td>\n",
              "      <td>3436</td>\n",
              "      <td>11.0</td>\n",
              "      <td>70</td>\n",
              "      <td>1</td>\n",
              "      <td>plymouth satellite</td>\n",
              "    </tr>\n",
              "    <tr>\n",
              "      <th>3</th>\n",
              "      <td>16.0</td>\n",
              "      <td>8</td>\n",
              "      <td>304.0</td>\n",
              "      <td>150</td>\n",
              "      <td>3433</td>\n",
              "      <td>12.0</td>\n",
              "      <td>70</td>\n",
              "      <td>1</td>\n",
              "      <td>amc rebel sst</td>\n",
              "    </tr>\n",
              "    <tr>\n",
              "      <th>4</th>\n",
              "      <td>17.0</td>\n",
              "      <td>8</td>\n",
              "      <td>302.0</td>\n",
              "      <td>140</td>\n",
              "      <td>3449</td>\n",
              "      <td>10.5</td>\n",
              "      <td>70</td>\n",
              "      <td>1</td>\n",
              "      <td>ford torino</td>\n",
              "    </tr>\n",
              "    <tr>\n",
              "      <th>5</th>\n",
              "      <td>15.0</td>\n",
              "      <td>8</td>\n",
              "      <td>429.0</td>\n",
              "      <td>198</td>\n",
              "      <td>4341</td>\n",
              "      <td>10.0</td>\n",
              "      <td>70</td>\n",
              "      <td>1</td>\n",
              "      <td>ford galaxie 500</td>\n",
              "    </tr>\n",
              "    <tr>\n",
              "      <th>6</th>\n",
              "      <td>14.0</td>\n",
              "      <td>8</td>\n",
              "      <td>454.0</td>\n",
              "      <td>220</td>\n",
              "      <td>4354</td>\n",
              "      <td>9.0</td>\n",
              "      <td>70</td>\n",
              "      <td>1</td>\n",
              "      <td>chevrolet impala</td>\n",
              "    </tr>\n",
              "  </tbody>\n",
              "</table>\n",
              "</div>"
            ],
            "text/plain": [
              "    mpg  cylinders  displacement  ... model_year  origin                       name\n",
              "0  18.0          8         307.0  ...         70       1  chevrolet chevelle malibu\n",
              "1  15.0          8         350.0  ...         70       1          buick skylark 320\n",
              "2  18.0          8         318.0  ...         70       1         plymouth satellite\n",
              "3  16.0          8         304.0  ...         70       1              amc rebel sst\n",
              "4  17.0          8         302.0  ...         70       1                ford torino\n",
              "5  15.0          8         429.0  ...         70       1           ford galaxie 500\n",
              "6  14.0          8         454.0  ...         70       1           chevrolet impala\n",
              "\n",
              "[7 rows x 9 columns]"
            ]
          },
          "metadata": {},
          "execution_count": 430
        }
      ]
    },
    {
      "cell_type": "code",
      "metadata": {
        "colab": {
          "base_uri": "https://localhost:8080/",
          "height": 436
        },
        "id": "95X30s9219O6",
        "outputId": "4a0715d3-2efc-45d2-b93a-266b6e26ede0"
      },
      "source": [
        "data.tail(n=7)"
      ],
      "execution_count": 431,
      "outputs": [
        {
          "output_type": "execute_result",
          "data": {
            "text/html": [
              "<div>\n",
              "<style scoped>\n",
              "    .dataframe tbody tr th:only-of-type {\n",
              "        vertical-align: middle;\n",
              "    }\n",
              "\n",
              "    .dataframe tbody tr th {\n",
              "        vertical-align: top;\n",
              "    }\n",
              "\n",
              "    .dataframe thead th {\n",
              "        text-align: right;\n",
              "    }\n",
              "</style>\n",
              "<table border=\"1\" class=\"dataframe\">\n",
              "  <thead>\n",
              "    <tr style=\"text-align: right;\">\n",
              "      <th></th>\n",
              "      <th>mpg</th>\n",
              "      <th>cylinders</th>\n",
              "      <th>displacement</th>\n",
              "      <th>horsepower</th>\n",
              "      <th>weight</th>\n",
              "      <th>acceleration</th>\n",
              "      <th>model_year</th>\n",
              "      <th>origin</th>\n",
              "      <th>name</th>\n",
              "    </tr>\n",
              "  </thead>\n",
              "  <tbody>\n",
              "    <tr>\n",
              "      <th>391</th>\n",
              "      <td>36.0</td>\n",
              "      <td>4</td>\n",
              "      <td>135.0</td>\n",
              "      <td>84</td>\n",
              "      <td>2370</td>\n",
              "      <td>13.0</td>\n",
              "      <td>82</td>\n",
              "      <td>1</td>\n",
              "      <td>dodge charger 2.2</td>\n",
              "    </tr>\n",
              "    <tr>\n",
              "      <th>392</th>\n",
              "      <td>27.0</td>\n",
              "      <td>4</td>\n",
              "      <td>151.0</td>\n",
              "      <td>90</td>\n",
              "      <td>2950</td>\n",
              "      <td>17.3</td>\n",
              "      <td>82</td>\n",
              "      <td>1</td>\n",
              "      <td>chevrolet camaro</td>\n",
              "    </tr>\n",
              "    <tr>\n",
              "      <th>393</th>\n",
              "      <td>27.0</td>\n",
              "      <td>4</td>\n",
              "      <td>140.0</td>\n",
              "      <td>86</td>\n",
              "      <td>2790</td>\n",
              "      <td>15.6</td>\n",
              "      <td>82</td>\n",
              "      <td>1</td>\n",
              "      <td>ford mustang gl</td>\n",
              "    </tr>\n",
              "    <tr>\n",
              "      <th>394</th>\n",
              "      <td>44.0</td>\n",
              "      <td>4</td>\n",
              "      <td>97.0</td>\n",
              "      <td>52</td>\n",
              "      <td>2130</td>\n",
              "      <td>24.6</td>\n",
              "      <td>82</td>\n",
              "      <td>2</td>\n",
              "      <td>vw pickup</td>\n",
              "    </tr>\n",
              "    <tr>\n",
              "      <th>395</th>\n",
              "      <td>32.0</td>\n",
              "      <td>4</td>\n",
              "      <td>135.0</td>\n",
              "      <td>84</td>\n",
              "      <td>2295</td>\n",
              "      <td>11.6</td>\n",
              "      <td>82</td>\n",
              "      <td>1</td>\n",
              "      <td>dodge rampage</td>\n",
              "    </tr>\n",
              "    <tr>\n",
              "      <th>396</th>\n",
              "      <td>28.0</td>\n",
              "      <td>4</td>\n",
              "      <td>120.0</td>\n",
              "      <td>79</td>\n",
              "      <td>2625</td>\n",
              "      <td>18.6</td>\n",
              "      <td>82</td>\n",
              "      <td>1</td>\n",
              "      <td>ford ranger</td>\n",
              "    </tr>\n",
              "    <tr>\n",
              "      <th>397</th>\n",
              "      <td>31.0</td>\n",
              "      <td>4</td>\n",
              "      <td>119.0</td>\n",
              "      <td>82</td>\n",
              "      <td>2720</td>\n",
              "      <td>19.4</td>\n",
              "      <td>82</td>\n",
              "      <td>1</td>\n",
              "      <td>chevy s-10</td>\n",
              "    </tr>\n",
              "  </tbody>\n",
              "</table>\n",
              "</div>"
            ],
            "text/plain": [
              "      mpg  cylinders  displacement  ... model_year  origin               name\n",
              "391  36.0          4         135.0  ...         82       1  dodge charger 2.2\n",
              "392  27.0          4         151.0  ...         82       1   chevrolet camaro\n",
              "393  27.0          4         140.0  ...         82       1    ford mustang gl\n",
              "394  44.0          4          97.0  ...         82       2          vw pickup\n",
              "395  32.0          4         135.0  ...         82       1      dodge rampage\n",
              "396  28.0          4         120.0  ...         82       1        ford ranger\n",
              "397  31.0          4         119.0  ...         82       1         chevy s-10\n",
              "\n",
              "[7 rows x 9 columns]"
            ]
          },
          "metadata": {},
          "execution_count": 431
        }
      ]
    },
    {
      "cell_type": "code",
      "metadata": {
        "colab": {
          "base_uri": "https://localhost:8080/"
        },
        "id": "vi2X-P0O19O8",
        "outputId": "14b673f4-87c3-465e-fe31-d865058f2e02"
      },
      "source": [
        "data.columns"
      ],
      "execution_count": 432,
      "outputs": [
        {
          "output_type": "execute_result",
          "data": {
            "text/plain": [
              "Index(['mpg', 'cylinders', 'displacement', 'horsepower', 'weight',\n",
              "       'acceleration', 'model_year', 'origin', 'name'],\n",
              "      dtype='object')"
            ]
          },
          "metadata": {},
          "execution_count": 432
        }
      ]
    },
    {
      "cell_type": "code",
      "metadata": {
        "id": "_nr7y5_x19O-"
      },
      "source": [
        "#here we see the horsepower being object but we know that it contains numerc values lets inspect"
      ],
      "execution_count": 433,
      "outputs": []
    },
    {
      "cell_type": "code",
      "metadata": {
        "colab": {
          "base_uri": "https://localhost:8080/"
        },
        "id": "1koMpyxs19O_",
        "outputId": "e0ef2e4d-a6a6-42e7-fa3c-008a3fdde08a"
      },
      "source": [
        "data.horsepower.unique()"
      ],
      "execution_count": 434,
      "outputs": [
        {
          "output_type": "execute_result",
          "data": {
            "text/plain": [
              "array(['130', '165', '150', '140', '198', '220', '215', '225', '190',\n",
              "       '170', '160', '95', '97', '85', '88', '46', '87', '90', '113',\n",
              "       '200', '210', '193', '?', '100', '105', '175', '153', '180', '110',\n",
              "       '72', '86', '70', '76', '65', '69', '60', '80', '54', '208', '155',\n",
              "       '112', '92', '145', '137', '158', '167', '94', '107', '230', '49',\n",
              "       '75', '91', '122', '67', '83', '78', '52', '61', '93', '148',\n",
              "       '129', '96', '71', '98', '115', '53', '81', '79', '120', '152',\n",
              "       '102', '108', '68', '58', '149', '89', '63', '48', '66', '139',\n",
              "       '103', '125', '133', '138', '135', '142', '77', '62', '132', '84',\n",
              "       '64', '74', '116', '82'], dtype=object)"
            ]
          },
          "metadata": {},
          "execution_count": 434
        }
      ]
    },
    {
      "cell_type": "code",
      "metadata": {
        "id": "T1k_K7Ur19PB"
      },
      "source": [
        "data = data[data.horsepower != \"?\"]"
      ],
      "execution_count": 435,
      "outputs": []
    },
    {
      "cell_type": "code",
      "metadata": {
        "colab": {
          "base_uri": "https://localhost:8080/"
        },
        "id": "RVJGeFJK19PC",
        "outputId": "43c9e7c1-a12e-4101-aeb2-1f454c731102"
      },
      "source": [
        "data.shape"
      ],
      "execution_count": 436,
      "outputs": [
        {
          "output_type": "execute_result",
          "data": {
            "text/plain": [
              "(392, 9)"
            ]
          },
          "metadata": {},
          "execution_count": 436
        }
      ]
    },
    {
      "cell_type": "code",
      "metadata": {
        "colab": {
          "base_uri": "https://localhost:8080/"
        },
        "id": "1Vak0YFz19PD",
        "outputId": "c5143739-71fb-49cd-cc77-f73ab3ea3add"
      },
      "source": [
        "data.dtypes"
      ],
      "execution_count": 437,
      "outputs": [
        {
          "output_type": "execute_result",
          "data": {
            "text/plain": [
              "mpg             float64\n",
              "cylinders         int64\n",
              "displacement    float64\n",
              "horsepower       object\n",
              "weight            int64\n",
              "acceleration    float64\n",
              "model_year        int64\n",
              "origin            int64\n",
              "name             object\n",
              "dtype: object"
            ]
          },
          "metadata": {},
          "execution_count": 437
        }
      ]
    },
    {
      "cell_type": "code",
      "metadata": {
        "colab": {
          "base_uri": "https://localhost:8080/"
        },
        "id": "d0KalYqA19PE",
        "outputId": "22d01067-2a31-4449-b9e4-7bd0247db94c"
      },
      "source": [
        "data.horsepower = data.horsepower.astype(\"float\")      #object type has been changed to float"
      ],
      "execution_count": 438,
      "outputs": [
        {
          "output_type": "stream",
          "name": "stderr",
          "text": [
            "/usr/local/lib/python3.7/dist-packages/pandas/core/generic.py:5170: SettingWithCopyWarning: \n",
            "A value is trying to be set on a copy of a slice from a DataFrame.\n",
            "Try using .loc[row_indexer,col_indexer] = value instead\n",
            "\n",
            "See the caveats in the documentation: https://pandas.pydata.org/pandas-docs/stable/user_guide/indexing.html#returning-a-view-versus-a-copy\n",
            "  self[name] = value\n"
          ]
        }
      ]
    },
    {
      "cell_type": "code",
      "metadata": {
        "colab": {
          "base_uri": "https://localhost:8080/"
        },
        "id": "5Q3OK_U919PE",
        "outputId": "14a66468-63c9-4ce0-bb10-b035c88fa954"
      },
      "source": [
        "data.dtypes    "
      ],
      "execution_count": 439,
      "outputs": [
        {
          "output_type": "execute_result",
          "data": {
            "text/plain": [
              "mpg             float64\n",
              "cylinders         int64\n",
              "displacement    float64\n",
              "horsepower      float64\n",
              "weight            int64\n",
              "acceleration    float64\n",
              "model_year        int64\n",
              "origin            int64\n",
              "name             object\n",
              "dtype: object"
            ]
          },
          "metadata": {},
          "execution_count": 439
        }
      ]
    },
    {
      "cell_type": "code",
      "metadata": {
        "colab": {
          "base_uri": "https://localhost:8080/",
          "height": 315
        },
        "id": "U9zgOHQ219PF",
        "outputId": "d12d2004-7113-4bbc-d169-82cc7c8bab0b"
      },
      "source": [
        "data.corr()"
      ],
      "execution_count": 440,
      "outputs": [
        {
          "output_type": "execute_result",
          "data": {
            "text/html": [
              "<div>\n",
              "<style scoped>\n",
              "    .dataframe tbody tr th:only-of-type {\n",
              "        vertical-align: middle;\n",
              "    }\n",
              "\n",
              "    .dataframe tbody tr th {\n",
              "        vertical-align: top;\n",
              "    }\n",
              "\n",
              "    .dataframe thead th {\n",
              "        text-align: right;\n",
              "    }\n",
              "</style>\n",
              "<table border=\"1\" class=\"dataframe\">\n",
              "  <thead>\n",
              "    <tr style=\"text-align: right;\">\n",
              "      <th></th>\n",
              "      <th>mpg</th>\n",
              "      <th>cylinders</th>\n",
              "      <th>displacement</th>\n",
              "      <th>horsepower</th>\n",
              "      <th>weight</th>\n",
              "      <th>acceleration</th>\n",
              "      <th>model_year</th>\n",
              "      <th>origin</th>\n",
              "    </tr>\n",
              "  </thead>\n",
              "  <tbody>\n",
              "    <tr>\n",
              "      <th>mpg</th>\n",
              "      <td>1.000000</td>\n",
              "      <td>-0.777618</td>\n",
              "      <td>-0.805127</td>\n",
              "      <td>-0.778427</td>\n",
              "      <td>-0.832244</td>\n",
              "      <td>0.423329</td>\n",
              "      <td>0.580541</td>\n",
              "      <td>0.565209</td>\n",
              "    </tr>\n",
              "    <tr>\n",
              "      <th>cylinders</th>\n",
              "      <td>-0.777618</td>\n",
              "      <td>1.000000</td>\n",
              "      <td>0.950823</td>\n",
              "      <td>0.842983</td>\n",
              "      <td>0.897527</td>\n",
              "      <td>-0.504683</td>\n",
              "      <td>-0.345647</td>\n",
              "      <td>-0.568932</td>\n",
              "    </tr>\n",
              "    <tr>\n",
              "      <th>displacement</th>\n",
              "      <td>-0.805127</td>\n",
              "      <td>0.950823</td>\n",
              "      <td>1.000000</td>\n",
              "      <td>0.897257</td>\n",
              "      <td>0.932994</td>\n",
              "      <td>-0.543800</td>\n",
              "      <td>-0.369855</td>\n",
              "      <td>-0.614535</td>\n",
              "    </tr>\n",
              "    <tr>\n",
              "      <th>horsepower</th>\n",
              "      <td>-0.778427</td>\n",
              "      <td>0.842983</td>\n",
              "      <td>0.897257</td>\n",
              "      <td>1.000000</td>\n",
              "      <td>0.864538</td>\n",
              "      <td>-0.689196</td>\n",
              "      <td>-0.416361</td>\n",
              "      <td>-0.455171</td>\n",
              "    </tr>\n",
              "    <tr>\n",
              "      <th>weight</th>\n",
              "      <td>-0.832244</td>\n",
              "      <td>0.897527</td>\n",
              "      <td>0.932994</td>\n",
              "      <td>0.864538</td>\n",
              "      <td>1.000000</td>\n",
              "      <td>-0.416839</td>\n",
              "      <td>-0.309120</td>\n",
              "      <td>-0.585005</td>\n",
              "    </tr>\n",
              "    <tr>\n",
              "      <th>acceleration</th>\n",
              "      <td>0.423329</td>\n",
              "      <td>-0.504683</td>\n",
              "      <td>-0.543800</td>\n",
              "      <td>-0.689196</td>\n",
              "      <td>-0.416839</td>\n",
              "      <td>1.000000</td>\n",
              "      <td>0.290316</td>\n",
              "      <td>0.212746</td>\n",
              "    </tr>\n",
              "    <tr>\n",
              "      <th>model_year</th>\n",
              "      <td>0.580541</td>\n",
              "      <td>-0.345647</td>\n",
              "      <td>-0.369855</td>\n",
              "      <td>-0.416361</td>\n",
              "      <td>-0.309120</td>\n",
              "      <td>0.290316</td>\n",
              "      <td>1.000000</td>\n",
              "      <td>0.181528</td>\n",
              "    </tr>\n",
              "    <tr>\n",
              "      <th>origin</th>\n",
              "      <td>0.565209</td>\n",
              "      <td>-0.568932</td>\n",
              "      <td>-0.614535</td>\n",
              "      <td>-0.455171</td>\n",
              "      <td>-0.585005</td>\n",
              "      <td>0.212746</td>\n",
              "      <td>0.181528</td>\n",
              "      <td>1.000000</td>\n",
              "    </tr>\n",
              "  </tbody>\n",
              "</table>\n",
              "</div>"
            ],
            "text/plain": [
              "                   mpg  cylinders  ...  model_year    origin\n",
              "mpg           1.000000  -0.777618  ...    0.580541  0.565209\n",
              "cylinders    -0.777618   1.000000  ...   -0.345647 -0.568932\n",
              "displacement -0.805127   0.950823  ...   -0.369855 -0.614535\n",
              "horsepower   -0.778427   0.842983  ...   -0.416361 -0.455171\n",
              "weight       -0.832244   0.897527  ...   -0.309120 -0.585005\n",
              "acceleration  0.423329  -0.504683  ...    0.290316  0.212746\n",
              "model_year    0.580541  -0.345647  ...    1.000000  0.181528\n",
              "origin        0.565209  -0.568932  ...    0.181528  1.000000\n",
              "\n",
              "[8 rows x 8 columns]"
            ]
          },
          "metadata": {},
          "execution_count": 440
        }
      ]
    },
    {
      "cell_type": "code",
      "metadata": {
        "colab": {
          "base_uri": "https://localhost:8080/"
        },
        "id": "zToVw-gD19PG",
        "outputId": "f0469825-965d-469f-f790-203e95361658"
      },
      "source": [
        "data['mpg'].kurt()"
      ],
      "execution_count": 441,
      "outputs": [
        {
          "output_type": "execute_result",
          "data": {
            "text/plain": [
              "-0.5159934946351457"
            ]
          },
          "metadata": {},
          "execution_count": 441
        }
      ]
    },
    {
      "cell_type": "code",
      "metadata": {
        "id": "M_Z3mJqA19PH"
      },
      "source": [
        "from sklearn.metrics import mean_squared_error, r2_score"
      ],
      "execution_count": 442,
      "outputs": []
    },
    {
      "cell_type": "code",
      "metadata": {
        "id": "WSQFhW8P19PH"
      },
      "source": [
        "from sklearn.model_selection import train_test_split\n",
        "df=data"
      ],
      "execution_count": 443,
      "outputs": []
    },
    {
      "cell_type": "code",
      "metadata": {
        "colab": {
          "base_uri": "https://localhost:8080/"
        },
        "id": "uPdQG0is19PI",
        "outputId": "1e90afb3-b5c0-4b17-f3b3-f8e23ea0ae37"
      },
      "source": [
        "df.columns"
      ],
      "execution_count": 444,
      "outputs": [
        {
          "output_type": "execute_result",
          "data": {
            "text/plain": [
              "Index(['mpg', 'cylinders', 'displacement', 'horsepower', 'weight',\n",
              "       'acceleration', 'model_year', 'origin', 'name'],\n",
              "      dtype='object')"
            ]
          },
          "metadata": {},
          "execution_count": 444
        }
      ]
    },
    {
      "cell_type": "code",
      "metadata": {
        "colab": {
          "base_uri": "https://localhost:8080/",
          "height": 315
        },
        "id": "hyNdIyEc19PJ",
        "outputId": "5d26ae18-e3e7-47b7-bde1-088191d1d579"
      },
      "source": [
        "df.corr()"
      ],
      "execution_count": 445,
      "outputs": [
        {
          "output_type": "execute_result",
          "data": {
            "text/html": [
              "<div>\n",
              "<style scoped>\n",
              "    .dataframe tbody tr th:only-of-type {\n",
              "        vertical-align: middle;\n",
              "    }\n",
              "\n",
              "    .dataframe tbody tr th {\n",
              "        vertical-align: top;\n",
              "    }\n",
              "\n",
              "    .dataframe thead th {\n",
              "        text-align: right;\n",
              "    }\n",
              "</style>\n",
              "<table border=\"1\" class=\"dataframe\">\n",
              "  <thead>\n",
              "    <tr style=\"text-align: right;\">\n",
              "      <th></th>\n",
              "      <th>mpg</th>\n",
              "      <th>cylinders</th>\n",
              "      <th>displacement</th>\n",
              "      <th>horsepower</th>\n",
              "      <th>weight</th>\n",
              "      <th>acceleration</th>\n",
              "      <th>model_year</th>\n",
              "      <th>origin</th>\n",
              "    </tr>\n",
              "  </thead>\n",
              "  <tbody>\n",
              "    <tr>\n",
              "      <th>mpg</th>\n",
              "      <td>1.000000</td>\n",
              "      <td>-0.777618</td>\n",
              "      <td>-0.805127</td>\n",
              "      <td>-0.778427</td>\n",
              "      <td>-0.832244</td>\n",
              "      <td>0.423329</td>\n",
              "      <td>0.580541</td>\n",
              "      <td>0.565209</td>\n",
              "    </tr>\n",
              "    <tr>\n",
              "      <th>cylinders</th>\n",
              "      <td>-0.777618</td>\n",
              "      <td>1.000000</td>\n",
              "      <td>0.950823</td>\n",
              "      <td>0.842983</td>\n",
              "      <td>0.897527</td>\n",
              "      <td>-0.504683</td>\n",
              "      <td>-0.345647</td>\n",
              "      <td>-0.568932</td>\n",
              "    </tr>\n",
              "    <tr>\n",
              "      <th>displacement</th>\n",
              "      <td>-0.805127</td>\n",
              "      <td>0.950823</td>\n",
              "      <td>1.000000</td>\n",
              "      <td>0.897257</td>\n",
              "      <td>0.932994</td>\n",
              "      <td>-0.543800</td>\n",
              "      <td>-0.369855</td>\n",
              "      <td>-0.614535</td>\n",
              "    </tr>\n",
              "    <tr>\n",
              "      <th>horsepower</th>\n",
              "      <td>-0.778427</td>\n",
              "      <td>0.842983</td>\n",
              "      <td>0.897257</td>\n",
              "      <td>1.000000</td>\n",
              "      <td>0.864538</td>\n",
              "      <td>-0.689196</td>\n",
              "      <td>-0.416361</td>\n",
              "      <td>-0.455171</td>\n",
              "    </tr>\n",
              "    <tr>\n",
              "      <th>weight</th>\n",
              "      <td>-0.832244</td>\n",
              "      <td>0.897527</td>\n",
              "      <td>0.932994</td>\n",
              "      <td>0.864538</td>\n",
              "      <td>1.000000</td>\n",
              "      <td>-0.416839</td>\n",
              "      <td>-0.309120</td>\n",
              "      <td>-0.585005</td>\n",
              "    </tr>\n",
              "    <tr>\n",
              "      <th>acceleration</th>\n",
              "      <td>0.423329</td>\n",
              "      <td>-0.504683</td>\n",
              "      <td>-0.543800</td>\n",
              "      <td>-0.689196</td>\n",
              "      <td>-0.416839</td>\n",
              "      <td>1.000000</td>\n",
              "      <td>0.290316</td>\n",
              "      <td>0.212746</td>\n",
              "    </tr>\n",
              "    <tr>\n",
              "      <th>model_year</th>\n",
              "      <td>0.580541</td>\n",
              "      <td>-0.345647</td>\n",
              "      <td>-0.369855</td>\n",
              "      <td>-0.416361</td>\n",
              "      <td>-0.309120</td>\n",
              "      <td>0.290316</td>\n",
              "      <td>1.000000</td>\n",
              "      <td>0.181528</td>\n",
              "    </tr>\n",
              "    <tr>\n",
              "      <th>origin</th>\n",
              "      <td>0.565209</td>\n",
              "      <td>-0.568932</td>\n",
              "      <td>-0.614535</td>\n",
              "      <td>-0.455171</td>\n",
              "      <td>-0.585005</td>\n",
              "      <td>0.212746</td>\n",
              "      <td>0.181528</td>\n",
              "      <td>1.000000</td>\n",
              "    </tr>\n",
              "  </tbody>\n",
              "</table>\n",
              "</div>"
            ],
            "text/plain": [
              "                   mpg  cylinders  ...  model_year    origin\n",
              "mpg           1.000000  -0.777618  ...    0.580541  0.565209\n",
              "cylinders    -0.777618   1.000000  ...   -0.345647 -0.568932\n",
              "displacement -0.805127   0.950823  ...   -0.369855 -0.614535\n",
              "horsepower   -0.778427   0.842983  ...   -0.416361 -0.455171\n",
              "weight       -0.832244   0.897527  ...   -0.309120 -0.585005\n",
              "acceleration  0.423329  -0.504683  ...    0.290316  0.212746\n",
              "model_year    0.580541  -0.345647  ...    1.000000  0.181528\n",
              "origin        0.565209  -0.568932  ...    0.181528  1.000000\n",
              "\n",
              "[8 rows x 8 columns]"
            ]
          },
          "metadata": {},
          "execution_count": 445
        }
      ]
    },
    {
      "cell_type": "code",
      "metadata": {
        "id": "tZp_2kRv19PK"
      },
      "source": [
        "training_features = [ 'acceleration','displacement','horsepower','origin','displacement','model_year']\n",
        "#Wt and cylinders dropped because of high correlation with displacement above 0.9\n",
        "#name is dropped\n",
        "\n",
        "target = 'mpg'\n",
        "X_train, X_test, Y_train, Y_test = train_test_split(df[training_features],\n",
        "                                                    df[target],\n",
        "                                                     test_size=0.11, random_state=66)\n",
        "#,random_state=88) #train_size=0.89\n",
        "#,  #0.1 to 0.2\n",
        "    #    #random state 1 to 10000"
      ],
      "execution_count": 446,
      "outputs": []
    },
    {
      "cell_type": "code",
      "metadata": {
        "id": "VSjCqjqk2X81"
      },
      "source": [
        "from sklearn.tree import DecisionTreeRegressor\n",
        "model = DecisionTreeRegressor(criterion='mae', max_depth=8, min_samples_leaf=6) #these parameter we have put to control the tree depth (mae,mse)"
      ],
      "execution_count": 447,
      "outputs": []
    },
    {
      "cell_type": "code",
      "metadata": {
        "colab": {
          "base_uri": "https://localhost:8080/"
        },
        "id": "rbea3YDt19PL",
        "outputId": "71f5db88-56f1-4c6b-c980-50b3e06aab7a"
      },
      "source": [
        "model.fit(X_train,Y_train)"
      ],
      "execution_count": 448,
      "outputs": [
        {
          "output_type": "execute_result",
          "data": {
            "text/plain": [
              "DecisionTreeRegressor(ccp_alpha=0.0, criterion='mae', max_depth=8,\n",
              "                      max_features=None, max_leaf_nodes=None,\n",
              "                      min_impurity_decrease=0.0, min_impurity_split=None,\n",
              "                      min_samples_leaf=6, min_samples_split=2,\n",
              "                      min_weight_fraction_leaf=0.0, presort='deprecated',\n",
              "                      random_state=None, splitter='best')"
            ]
          },
          "metadata": {},
          "execution_count": 448
        }
      ]
    },
    {
      "cell_type": "code",
      "metadata": {
        "colab": {
          "base_uri": "https://localhost:8080/"
        },
        "id": "P7E6KKLW41ZY",
        "outputId": "c3ba0804-a87d-4789-8e00-43536e7185dd"
      },
      "source": [
        "model.get_depth()"
      ],
      "execution_count": 449,
      "outputs": [
        {
          "output_type": "execute_result",
          "data": {
            "text/plain": [
              "8"
            ]
          },
          "metadata": {},
          "execution_count": 449
        }
      ]
    },
    {
      "cell_type": "code",
      "metadata": {
        "id": "xEhawZGx19PK"
      },
      "source": [
        "#from sklearn.neighbors import KNeighborsRegressor\n",
        "#model = KNeighborsRegressor(n_neighbors=4,p=2,weights='distance')# p=1 or p = 2 2 i manhattan 2 euclidean\n"
      ],
      "execution_count": 450,
      "outputs": []
    },
    {
      "cell_type": "code",
      "metadata": {
        "colab": {
          "base_uri": "https://localhost:8080/",
          "height": 1000
        },
        "id": "cIEDg6mB4oqR",
        "outputId": "fbe856da-0369-447c-fdca-b4b2c4895b48"
      },
      "source": [
        "from sklearn.tree import plot_tree\n",
        "plot_tree(model, filled = True)"
      ],
      "execution_count": 451,
      "outputs": [
        {
          "output_type": "execute_result",
          "data": {
            "text/plain": [
              "[Text(186.95286885245903, 205.35999999999999, 'X[1] <= 190.5\\nmae = 6.491\\nsamples = 348\\nvalue = 23.0'),\n",
              " Text(100.8516393442623, 181.2, 'X[2] <= 76.5\\nmae = 4.813\\nsamples = 198\\nvalue = 28.0'),\n",
              " Text(50.768852459016394, 157.04, 'X[5] <= 77.5\\nmae = 4.238\\nsamples = 90\\nvalue = 32.0'),\n",
              " Text(24.698360655737705, 132.88, 'X[4] <= 89.0\\nmae = 3.105\\nsamples = 38\\nvalue = 29.0'),\n",
              " Text(10.97704918032787, 108.72, 'X[3] <= 2.5\\nmae = 1.679\\nsamples = 14\\nvalue = 31.0'),\n",
              " Text(5.488524590163935, 84.56, 'mae = 2.0\\nsamples = 6\\nvalue = 30.0'),\n",
              " Text(16.465573770491805, 84.56, 'mae = 0.938\\nsamples = 8\\nvalue = 32.0'),\n",
              " Text(38.41967213114754, 108.72, 'X[5] <= 74.5\\nmae = 2.312\\nsamples = 24\\nvalue = 26.0'),\n",
              " Text(27.442622950819672, 84.56, 'X[2] <= 71.0\\nmae = 1.667\\nsamples = 12\\nvalue = 25.5'),\n",
              " Text(21.95409836065574, 60.400000000000006, 'mae = 0.667\\nsamples = 6\\nvalue = 26.0'),\n",
              " Text(32.93114754098361, 60.400000000000006, 'mae = 1.667\\nsamples = 6\\nvalue = 23.0'),\n",
              " Text(49.39672131147541, 84.56, 'X[2] <= 70.5\\nmae = 2.042\\nsamples = 12\\nvalue = 29.0'),\n",
              " Text(43.90819672131148, 60.400000000000006, 'mae = 1.917\\nsamples = 6\\nvalue = 30.25'),\n",
              " Text(54.885245901639344, 60.400000000000006, 'mae = 1.5\\nsamples = 6\\nvalue = 27.25'),\n",
              " Text(76.83934426229509, 132.88, 'X[2] <= 59.0\\nmae = 3.523\\nsamples = 52\\nvalue = 34.9'),\n",
              " Text(71.35081967213115, 108.72, 'mae = 2.783\\nsamples = 6\\nvalue = 43.25'),\n",
              " Text(82.32786885245902, 108.72, 'X[4] <= 94.0\\nmae = 3.054\\nsamples = 46\\nvalue = 34.45'),\n",
              " Text(71.35081967213115, 84.56, 'X[0] <= 16.15\\nmae = 3.295\\nsamples = 21\\nvalue = 37.2'),\n",
              " Text(65.86229508196722, 60.400000000000006, 'mae = 3.311\\nsamples = 9\\nvalue = 34.1'),\n",
              " Text(76.83934426229509, 60.400000000000006, 'X[0] <= 17.75\\nmae = 2.592\\nsamples = 12\\nvalue = 37.85'),\n",
              " Text(71.35081967213115, 36.24000000000001, 'mae = 1.733\\nsamples = 6\\nvalue = 37.45'),\n",
              " Text(82.32786885245902, 36.24000000000001, 'mae = 3.317\\nsamples = 6\\nvalue = 38.75'),\n",
              " Text(93.30491803278689, 84.56, 'X[0] <= 15.05\\nmae = 2.268\\nsamples = 25\\nvalue = 33.8'),\n",
              " Text(87.81639344262295, 60.400000000000006, 'mae = 1.812\\nsamples = 8\\nvalue = 35.35'),\n",
              " Text(98.79344262295082, 60.400000000000006, 'X[0] <= 17.4\\nmae = 1.829\\nsamples = 17\\nvalue = 32.3'),\n",
              " Text(93.30491803278689, 36.24000000000001, 'mae = 1.522\\nsamples = 9\\nvalue = 32.4'),\n",
              " Text(104.28196721311475, 36.24000000000001, 'mae = 1.962\\nsamples = 8\\nvalue = 31.45'),\n",
              " Text(150.9344262295082, 157.04, 'X[5] <= 78.5\\nmae = 3.248\\nsamples = 108\\nvalue = 25.05'),\n",
              " Text(126.23606557377049, 132.88, 'X[4] <= 112.0\\nmae = 2.822\\nsamples = 72\\nvalue = 24.0'),\n",
              " Text(109.77049180327869, 108.72, 'X[2] <= 86.5\\nmae = 2.604\\nsamples = 24\\nvalue = 26.5'),\n",
              " Text(104.28196721311475, 84.56, 'mae = 1.818\\nsamples = 11\\nvalue = 28.0'),\n",
              " Text(115.25901639344262, 84.56, 'X[0] <= 15.0\\nmae = 2.577\\nsamples = 13\\nvalue = 25.0'),\n",
              " Text(109.77049180327869, 60.400000000000006, 'mae = 3.25\\nsamples = 6\\nvalue = 22.75'),\n",
              " Text(120.74754098360656, 60.400000000000006, 'mae = 1.571\\nsamples = 7\\nvalue = 26.0'),\n",
              " Text(142.7016393442623, 108.72, 'X[4] <= 153.0\\nmae = 2.344\\nsamples = 48\\nvalue = 23.0'),\n",
              " Text(137.21311475409837, 84.56, 'X[0] <= 17.3\\nmae = 2.073\\nsamples = 41\\nvalue = 23.8'),\n",
              " Text(131.72459016393444, 60.400000000000006, 'X[2] <= 97.5\\nmae = 1.92\\nsamples = 35\\nvalue = 24.0'),\n",
              " Text(126.23606557377049, 36.24000000000001, 'X[5] <= 75.5\\nmae = 1.627\\nsamples = 26\\nvalue = 24.0'),\n",
              " Text(120.74754098360656, 12.079999999999984, 'mae = 1.6\\nsamples = 15\\nvalue = 24.0'),\n",
              " Text(131.72459016393444, 12.079999999999984, 'mae = 1.3\\nsamples = 11\\nvalue = 25.0'),\n",
              " Text(137.21311475409837, 36.24000000000001, 'mae = 2.056\\nsamples = 9\\nvalue = 21.6'),\n",
              " Text(142.7016393442623, 60.400000000000006, 'mae = 1.633\\nsamples = 6\\nvalue = 20.5'),\n",
              " Text(148.19016393442624, 84.56, 'mae = 1.814\\nsamples = 7\\nvalue = 19.0'),\n",
              " Text(175.6327868852459, 132.88, 'X[4] <= 137.5\\nmae = 2.956\\nsamples = 36\\nvalue = 27.95'),\n",
              " Text(164.65573770491804, 108.72, 'X[3] <= 1.5\\nmae = 2.75\\nsamples = 14\\nvalue = 31.0'),\n",
              " Text(159.1672131147541, 84.56, 'mae = 1.975\\nsamples = 8\\nvalue = 30.5'),\n",
              " Text(170.14426229508197, 84.56, 'mae = 3.15\\nsamples = 6\\nvalue = 33.6'),\n",
              " Text(186.60983606557377, 108.72, 'X[5] <= 80.5\\nmae = 2.168\\nsamples = 22\\nvalue = 26.7'),\n",
              " Text(181.12131147540984, 84.56, 'mae = 2.47\\nsamples = 10\\nvalue = 27.95'),\n",
              " Text(192.0983606557377, 84.56, 'X[0] <= 15.45\\nmae = 1.567\\nsamples = 12\\nvalue = 25.9'),\n",
              " Text(186.60983606557377, 60.400000000000006, 'mae = 1.783\\nsamples = 6\\nvalue = 25.6'),\n",
              " Text(197.58688524590164, 60.400000000000006, 'mae = 1.083\\nsamples = 6\\nvalue = 26.8'),\n",
              " Text(273.05409836065576, 181.2, 'X[2] <= 127.0\\nmae = 2.783\\nsamples = 150\\nvalue = 16.0'),\n",
              " Text(238.75081967213114, 157.04, 'X[5] <= 77.5\\nmae = 2.112\\nsamples = 66\\nvalue = 19.0'),\n",
              " Text(219.54098360655738, 132.88, 'X[4] <= 212.5\\nmae = 1.739\\nsamples = 44\\nvalue = 18.0'),\n",
              " Text(214.05245901639344, 108.72, 'mae = 1.429\\nsamples = 7\\nvalue = 21.0'),\n",
              " Text(225.0295081967213, 108.72, 'X[0] <= 17.75\\nmae = 1.446\\nsamples = 37\\nvalue = 18.0'),\n",
              " Text(214.05245901639344, 84.56, 'X[5] <= 74.5\\nmae = 1.34\\nsamples = 25\\nvalue = 19.0'),\n",
              " Text(208.5639344262295, 60.400000000000006, 'mae = 0.818\\nsamples = 11\\nvalue = 18.0'),\n",
              " Text(219.54098360655738, 60.400000000000006, 'X[1] <= 241.0\\nmae = 1.393\\nsamples = 14\\nvalue = 19.5'),\n",
              " Text(214.05245901639344, 36.24000000000001, 'mae = 0.875\\nsamples = 8\\nvalue = 20.0'),\n",
              " Text(225.0295081967213, 36.24000000000001, 'mae = 1.583\\nsamples = 6\\nvalue = 18.25'),\n",
              " Text(236.00655737704918, 84.56, 'X[2] <= 99.0\\nmae = 1.083\\nsamples = 12\\nvalue = 16.5'),\n",
              " Text(230.51803278688524, 60.400000000000006, 'mae = 1.167\\nsamples = 6\\nvalue = 17.75'),\n",
              " Text(241.4950819672131, 60.400000000000006, 'mae = 0.5\\nsamples = 6\\nvalue = 16.0'),\n",
              " Text(257.96065573770494, 132.88, 'X[4] <= 259.0\\nmae = 2.195\\nsamples = 22\\nvalue = 20.5'),\n",
              " Text(252.47213114754098, 108.72, 'X[0] <= 16.95\\nmae = 1.056\\nsamples = 16\\nvalue = 20.35'),\n",
              " Text(246.98360655737704, 84.56, 'mae = 1.133\\nsamples = 9\\nvalue = 20.6'),\n",
              " Text(257.96065573770494, 84.56, 'mae = 0.557\\nsamples = 7\\nvalue = 19.4'),\n",
              " Text(263.4491803278689, 108.72, 'mae = 4.4\\nsamples = 6\\nvalue = 23.45'),\n",
              " Text(307.35737704918034, 157.04, 'X[5] <= 76.5\\nmae = 1.671\\nsamples = 84\\nvalue = 14.0'),\n",
              " Text(290.89180327868854, 132.88, 'X[5] <= 70.5\\nmae = 1.311\\nsamples = 66\\nvalue = 14.0'),\n",
              " Text(274.42622950819674, 108.72, 'X[2] <= 191.5\\nmae = 1.5\\nsamples = 16\\nvalue = 15.0'),\n",
              " Text(268.9377049180328, 84.56, 'mae = 1.111\\nsamples = 9\\nvalue = 15.0'),\n",
              " Text(279.9147540983607, 84.56, 'mae = 1.286\\nsamples = 7\\nvalue = 14.0'),\n",
              " Text(307.35737704918034, 108.72, 'X[1] <= 334.0\\nmae = 1.17\\nsamples = 50\\nvalue = 13.0'),\n",
              " Text(290.89180327868854, 84.56, 'X[0] <= 13.1\\nmae = 0.976\\nsamples = 21\\nvalue = 14.0'),\n",
              " Text(285.4032786885246, 60.400000000000006, 'mae = 1.056\\nsamples = 9\\nvalue = 15.0'),\n",
              " Text(296.3803278688525, 60.400000000000006, 'X[4] <= 312.5\\nmae = 0.667\\nsamples = 12\\nvalue = 14.0'),\n",
              " Text(290.89180327868854, 36.24000000000001, 'mae = 0.5\\nsamples = 6\\nvalue = 13.5'),\n",
              " Text(301.8688524590164, 36.24000000000001, 'mae = 0.833\\nsamples = 6\\nvalue = 14.0'),\n",
              " Text(323.82295081967214, 84.56, 'X[5] <= 74.5\\nmae = 1.0\\nsamples = 29\\nvalue = 13.0'),\n",
              " Text(318.3344262295082, 60.400000000000006, 'X[2] <= 177.5\\nmae = 0.783\\nsamples = 23\\nvalue = 13.0'),\n",
              " Text(312.8459016393443, 36.24000000000001, 'X[2] <= 159.0\\nmae = 0.5\\nsamples = 14\\nvalue = 13.0'),\n",
              " Text(307.35737704918034, 12.079999999999984, 'mae = 0.5\\nsamples = 6\\nvalue = 13.0'),\n",
              " Text(318.3344262295082, 12.079999999999984, 'mae = 0.5\\nsamples = 8\\nvalue = 13.0'),\n",
              " Text(323.82295081967214, 36.24000000000001, 'mae = 0.889\\nsamples = 9\\nvalue = 12.0'),\n",
              " Text(329.3114754098361, 60.400000000000006, 'mae = 1.0\\nsamples = 6\\nvalue = 14.75'),\n",
              " Text(323.82295081967214, 132.88, 'X[5] <= 77.5\\nmae = 1.172\\nsamples = 18\\nvalue = 16.95'),\n",
              " Text(318.3344262295082, 108.72, 'mae = 0.5\\nsamples = 7\\nvalue = 15.5'),\n",
              " Text(329.3114754098361, 108.72, 'mae = 0.955\\nsamples = 11\\nvalue = 17.6')]"
            ]
          },
          "metadata": {},
          "execution_count": 451
        },
        {
          "output_type": "display_data",
          "data": {
            "image/png": "[encoded data removed]",
            "text/plain": [
              "<Figure size 432x288 with 1 Axes>"
            ]
          },
          "metadata": {
            "needs_background": "light"
          }
        }
      ]
    },
    {
      "cell_type": "code",
      "metadata": {
        "colab": {
          "base_uri": "https://localhost:8080/"
        },
        "id": "1ZeJatE919PL",
        "outputId": "fad6919c-aeb7-4bbb-cfea-d78835859b7a"
      },
      "source": [
        "predicted=model.predict(X_test)\n",
        "print(\"Mean squared error: %.2f\"\n",
        "              % mean_squared_error(Y_test, predicted))\n",
        "print('R Square score: %.2f' % r2_score(Y_test, predicted))"
      ],
      "execution_count": 452,
      "outputs": [
        {
          "output_type": "stream",
          "name": "stdout",
          "text": [
            "Mean squared error: 5.61\n",
            "R Square score: 0.91\n"
          ]
        }
      ]
    }
  ]
}