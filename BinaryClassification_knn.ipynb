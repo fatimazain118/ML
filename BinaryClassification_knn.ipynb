{
  "nbformat": 4,
  "nbformat_minor": 0,
  "metadata": {
    "kernelspec": {
      "display_name": "Python 3",
      "language": "python",
      "name": "python3"
    },
    "language_info": {
      "codemirror_mode": {
        "name": "ipython",
        "version": 3
      },
      "file_extension": ".py",
      "mimetype": "text/x-python",
      "name": "python",
      "nbconvert_exporter": "python",
      "pygments_lexer": "ipython3",
      "version": "3.8.5"
    },
    "colab": {
      "name": "BinaryClassification-knn.ipynb",
      "provenance": [],
      "include_colab_link": true
    }
  },
  "cells": [
    {
      "cell_type": "markdown",
      "metadata": {
        "id": "view-in-github",
        "colab_type": "text"
      },
      "source": [
        "<a href=\"https://colab.research.google.com/github/fatimazain118/ML/blob/main/BinaryClassification_knn.ipynb\" target=\"_parent\"><img src=\"https://colab.research.google.com/assets/colab-badge.svg\" alt=\"Open In Colab\"/></a>"
      ]
    },
    {
      "cell_type": "code",
      "metadata": {
        "id": "ZU-phCX0XZO4"
      },
      "source": [
        "import numpy as np # linear algebra\n",
        "import pandas as pd\n",
        "from sklearn.utils import shuffle\n",
        "from sklearn.model_selection import train_test_split\n",
        "\n",
        "from sklearn import metrics\n",
        "\n",
        "\n",
        "import logging,sys\n"
      ],
      "execution_count": 282,
      "outputs": []
    },
    {
      "cell_type": "code",
      "metadata": {
        "colab": {
          "base_uri": "https://localhost:8080/"
        },
        "id": "ZMLwD8D4Xcme",
        "outputId": "1122bcaa-5386-454c-b35e-93f1a254a702"
      },
      "source": [
        "from google.colab import drive  #mounting google drive to take excel sheet input\n",
        "drive.mount('/content/gdrive')"
      ],
      "execution_count": 283,
      "outputs": [
        {
          "output_type": "stream",
          "name": "stdout",
          "text": [
            "Drive already mounted at /content/gdrive; to attempt to forcibly remount, call drive.mount(\"/content/gdrive\", force_remount=True).\n"
          ]
        }
      ]
    },
    {
      "cell_type": "code",
      "metadata": {
        "colab": {
          "base_uri": "https://localhost:8080/",
          "height": 417
        },
        "id": "-8vburc5XZPE",
        "outputId": "c26cf183-56d7-49fd-d92b-8277f4bea15f"
      },
      "source": [
        "df = pd.read_csv('/content/gdrive/MyDrive/binary.csv.zip')\n",
        "df"
      ],
      "execution_count": 284,
      "outputs": [
        {
          "output_type": "execute_result",
          "data": {
            "text/html": [
              "<div>\n",
              "<style scoped>\n",
              "    .dataframe tbody tr th:only-of-type {\n",
              "        vertical-align: middle;\n",
              "    }\n",
              "\n",
              "    .dataframe tbody tr th {\n",
              "        vertical-align: top;\n",
              "    }\n",
              "\n",
              "    .dataframe thead th {\n",
              "        text-align: right;\n",
              "    }\n",
              "</style>\n",
              "<table border=\"1\" class=\"dataframe\">\n",
              "  <thead>\n",
              "    <tr style=\"text-align: right;\">\n",
              "      <th></th>\n",
              "      <th>admit</th>\n",
              "      <th>gre</th>\n",
              "      <th>gpa</th>\n",
              "      <th>rank</th>\n",
              "    </tr>\n",
              "  </thead>\n",
              "  <tbody>\n",
              "    <tr>\n",
              "      <th>0</th>\n",
              "      <td>0</td>\n",
              "      <td>380</td>\n",
              "      <td>3.61</td>\n",
              "      <td>3</td>\n",
              "    </tr>\n",
              "    <tr>\n",
              "      <th>1</th>\n",
              "      <td>1</td>\n",
              "      <td>660</td>\n",
              "      <td>3.67</td>\n",
              "      <td>3</td>\n",
              "    </tr>\n",
              "    <tr>\n",
              "      <th>2</th>\n",
              "      <td>1</td>\n",
              "      <td>800</td>\n",
              "      <td>4.00</td>\n",
              "      <td>1</td>\n",
              "    </tr>\n",
              "    <tr>\n",
              "      <th>3</th>\n",
              "      <td>1</td>\n",
              "      <td>640</td>\n",
              "      <td>3.19</td>\n",
              "      <td>4</td>\n",
              "    </tr>\n",
              "    <tr>\n",
              "      <th>4</th>\n",
              "      <td>0</td>\n",
              "      <td>520</td>\n",
              "      <td>2.93</td>\n",
              "      <td>4</td>\n",
              "    </tr>\n",
              "    <tr>\n",
              "      <th>...</th>\n",
              "      <td>...</td>\n",
              "      <td>...</td>\n",
              "      <td>...</td>\n",
              "      <td>...</td>\n",
              "    </tr>\n",
              "    <tr>\n",
              "      <th>395</th>\n",
              "      <td>0</td>\n",
              "      <td>620</td>\n",
              "      <td>4.00</td>\n",
              "      <td>2</td>\n",
              "    </tr>\n",
              "    <tr>\n",
              "      <th>396</th>\n",
              "      <td>0</td>\n",
              "      <td>560</td>\n",
              "      <td>3.04</td>\n",
              "      <td>3</td>\n",
              "    </tr>\n",
              "    <tr>\n",
              "      <th>397</th>\n",
              "      <td>0</td>\n",
              "      <td>460</td>\n",
              "      <td>2.63</td>\n",
              "      <td>2</td>\n",
              "    </tr>\n",
              "    <tr>\n",
              "      <th>398</th>\n",
              "      <td>0</td>\n",
              "      <td>700</td>\n",
              "      <td>3.65</td>\n",
              "      <td>2</td>\n",
              "    </tr>\n",
              "    <tr>\n",
              "      <th>399</th>\n",
              "      <td>0</td>\n",
              "      <td>600</td>\n",
              "      <td>3.89</td>\n",
              "      <td>3</td>\n",
              "    </tr>\n",
              "  </tbody>\n",
              "</table>\n",
              "<p>400 rows × 4 columns</p>\n",
              "</div>"
            ],
            "text/plain": [
              "     admit  gre   gpa  rank\n",
              "0        0  380  3.61     3\n",
              "1        1  660  3.67     3\n",
              "2        1  800  4.00     1\n",
              "3        1  640  3.19     4\n",
              "4        0  520  2.93     4\n",
              "..     ...  ...   ...   ...\n",
              "395      0  620  4.00     2\n",
              "396      0  560  3.04     3\n",
              "397      0  460  2.63     2\n",
              "398      0  700  3.65     2\n",
              "399      0  600  3.89     3\n",
              "\n",
              "[400 rows x 4 columns]"
            ]
          },
          "metadata": {},
          "execution_count": 284
        }
      ]
    },
    {
      "cell_type": "code",
      "metadata": {
        "colab": {
          "base_uri": "https://localhost:8080/"
        },
        "id": "eM7snsJuPGMq",
        "outputId": "c069d918-292c-4930-caa3-5a25dd1be5ec"
      },
      "source": [
        "df.columns"
      ],
      "execution_count": 285,
      "outputs": [
        {
          "output_type": "execute_result",
          "data": {
            "text/plain": [
              "Index(['admit', 'gre', 'gpa', 'rank'], dtype='object')"
            ]
          },
          "metadata": {},
          "execution_count": 285
        }
      ]
    },
    {
      "cell_type": "code",
      "metadata": {
        "colab": {
          "base_uri": "https://localhost:8080/"
        },
        "id": "FutfwMo7XUxF",
        "outputId": "e4e32e64-7d36-4b6c-fef3-e667ce605077"
      },
      "source": [
        "df.info()"
      ],
      "execution_count": 286,
      "outputs": [
        {
          "output_type": "stream",
          "name": "stdout",
          "text": [
            "<class 'pandas.core.frame.DataFrame'>\n",
            "RangeIndex: 400 entries, 0 to 399\n",
            "Data columns (total 4 columns):\n",
            " #   Column  Non-Null Count  Dtype  \n",
            "---  ------  --------------  -----  \n",
            " 0   admit   400 non-null    int64  \n",
            " 1   gre     400 non-null    int64  \n",
            " 2   gpa     400 non-null    float64\n",
            " 3   rank    400 non-null    int64  \n",
            "dtypes: float64(1), int64(3)\n",
            "memory usage: 12.6 KB\n"
          ]
        }
      ]
    },
    {
      "cell_type": "code",
      "metadata": {
        "colab": {
          "base_uri": "https://localhost:8080/"
        },
        "id": "xE19JKtyPd85",
        "outputId": "a5d6b3ae-9741-43f8-b00a-9be39477b9ff"
      },
      "source": [
        "df.ndim"
      ],
      "execution_count": 287,
      "outputs": [
        {
          "output_type": "execute_result",
          "data": {
            "text/plain": [
              "2"
            ]
          },
          "metadata": {},
          "execution_count": 287
        }
      ]
    },
    {
      "cell_type": "code",
      "metadata": {
        "colab": {
          "base_uri": "https://localhost:8080/",
          "height": 203
        },
        "id": "TgAklI-JPghP",
        "outputId": "f41e705f-f343-484b-c273-2d65472c3377"
      },
      "source": [
        "df.head(5)      #admit is output variable"
      ],
      "execution_count": 288,
      "outputs": [
        {
          "output_type": "execute_result",
          "data": {
            "text/html": [
              "<div>\n",
              "<style scoped>\n",
              "    .dataframe tbody tr th:only-of-type {\n",
              "        vertical-align: middle;\n",
              "    }\n",
              "\n",
              "    .dataframe tbody tr th {\n",
              "        vertical-align: top;\n",
              "    }\n",
              "\n",
              "    .dataframe thead th {\n",
              "        text-align: right;\n",
              "    }\n",
              "</style>\n",
              "<table border=\"1\" class=\"dataframe\">\n",
              "  <thead>\n",
              "    <tr style=\"text-align: right;\">\n",
              "      <th></th>\n",
              "      <th>admit</th>\n",
              "      <th>gre</th>\n",
              "      <th>gpa</th>\n",
              "      <th>rank</th>\n",
              "    </tr>\n",
              "  </thead>\n",
              "  <tbody>\n",
              "    <tr>\n",
              "      <th>0</th>\n",
              "      <td>0</td>\n",
              "      <td>380</td>\n",
              "      <td>3.61</td>\n",
              "      <td>3</td>\n",
              "    </tr>\n",
              "    <tr>\n",
              "      <th>1</th>\n",
              "      <td>1</td>\n",
              "      <td>660</td>\n",
              "      <td>3.67</td>\n",
              "      <td>3</td>\n",
              "    </tr>\n",
              "    <tr>\n",
              "      <th>2</th>\n",
              "      <td>1</td>\n",
              "      <td>800</td>\n",
              "      <td>4.00</td>\n",
              "      <td>1</td>\n",
              "    </tr>\n",
              "    <tr>\n",
              "      <th>3</th>\n",
              "      <td>1</td>\n",
              "      <td>640</td>\n",
              "      <td>3.19</td>\n",
              "      <td>4</td>\n",
              "    </tr>\n",
              "    <tr>\n",
              "      <th>4</th>\n",
              "      <td>0</td>\n",
              "      <td>520</td>\n",
              "      <td>2.93</td>\n",
              "      <td>4</td>\n",
              "    </tr>\n",
              "  </tbody>\n",
              "</table>\n",
              "</div>"
            ],
            "text/plain": [
              "   admit  gre   gpa  rank\n",
              "0      0  380  3.61     3\n",
              "1      1  660  3.67     3\n",
              "2      1  800  4.00     1\n",
              "3      1  640  3.19     4\n",
              "4      0  520  2.93     4"
            ]
          },
          "metadata": {},
          "execution_count": 288
        }
      ]
    },
    {
      "cell_type": "code",
      "metadata": {
        "colab": {
          "base_uri": "https://localhost:8080/"
        },
        "id": "CvXWNrh0YUn1",
        "outputId": "7a0c10d0-67d6-443c-cb78-f0826de7333e"
      },
      "source": [
        "df.gre.mean()"
      ],
      "execution_count": 289,
      "outputs": [
        {
          "output_type": "execute_result",
          "data": {
            "text/plain": [
              "587.7"
            ]
          },
          "metadata": {},
          "execution_count": 289
        }
      ]
    },
    {
      "cell_type": "code",
      "metadata": {
        "colab": {
          "base_uri": "https://localhost:8080/"
        },
        "id": "DwGSw9LiRr17",
        "outputId": "9b41aa24-2d75-4fad-a55f-645d3527edb9"
      },
      "source": [
        "df[\"rank\"].mode()       #like this we'll find for rank "
      ],
      "execution_count": 290,
      "outputs": [
        {
          "output_type": "execute_result",
          "data": {
            "text/plain": [
              "0    2\n",
              "dtype: int64"
            ]
          },
          "metadata": {},
          "execution_count": 290
        }
      ]
    },
    {
      "cell_type": "code",
      "metadata": {
        "colab": {
          "base_uri": "https://localhost:8080/"
        },
        "id": "27ygEReRYdvq",
        "outputId": "2f7a0725-0b57-425f-955e-3c8dd5430eef"
      },
      "source": [
        "df.gpa.median()"
      ],
      "execution_count": 291,
      "outputs": [
        {
          "output_type": "execute_result",
          "data": {
            "text/plain": [
              "3.395"
            ]
          },
          "metadata": {},
          "execution_count": 291
        }
      ]
    },
    {
      "cell_type": "code",
      "metadata": {
        "colab": {
          "base_uri": "https://localhost:8080/"
        },
        "id": "TA7ua2fNYhZ_",
        "outputId": "8bd35f9b-9f8e-4305-b85b-f1ef4b95e6f5"
      },
      "source": [
        "df.gpa.mean()"
      ],
      "execution_count": 292,
      "outputs": [
        {
          "output_type": "execute_result",
          "data": {
            "text/plain": [
              "3.3899000000000017"
            ]
          },
          "metadata": {},
          "execution_count": 292
        }
      ]
    },
    {
      "cell_type": "code",
      "metadata": {
        "colab": {
          "base_uri": "https://localhost:8080/"
        },
        "id": "pL6OYezfXZPG",
        "outputId": "fb2650f7-ee2f-41a3-918f-96d59487f50c"
      },
      "source": [
        "df[\"rank\"].unique()   #discreet column--rank,admit"
      ],
      "execution_count": 293,
      "outputs": [
        {
          "output_type": "execute_result",
          "data": {
            "text/plain": [
              "array([3, 1, 4, 2])"
            ]
          },
          "metadata": {},
          "execution_count": 293
        }
      ]
    },
    {
      "cell_type": "code",
      "metadata": {
        "colab": {
          "base_uri": "https://localhost:8080/"
        },
        "id": "4H4AsPs5Pulm",
        "outputId": "c0e4bbab-f85e-4872-d6a1-206d015d34e1"
      },
      "source": [
        "df['gre'].unique()  #continuous column"
      ],
      "execution_count": 294,
      "outputs": [
        {
          "output_type": "execute_result",
          "data": {
            "text/plain": [
              "array([380, 660, 800, 640, 520, 760, 560, 400, 540, 700, 440, 480, 780,\n",
              "       360, 500, 600, 680, 620, 580, 460, 740, 300, 720, 340, 420, 220])"
            ]
          },
          "metadata": {},
          "execution_count": 294
        }
      ]
    },
    {
      "cell_type": "code",
      "metadata": {
        "colab": {
          "base_uri": "https://localhost:8080/",
          "height": 172
        },
        "id": "hhoCOXzUXZPI",
        "outputId": "52faf7c4-18e5-4bcb-f413-13a576804696"
      },
      "source": [
        "df.corr()"
      ],
      "execution_count": 295,
      "outputs": [
        {
          "output_type": "execute_result",
          "data": {
            "text/html": [
              "<div>\n",
              "<style scoped>\n",
              "    .dataframe tbody tr th:only-of-type {\n",
              "        vertical-align: middle;\n",
              "    }\n",
              "\n",
              "    .dataframe tbody tr th {\n",
              "        vertical-align: top;\n",
              "    }\n",
              "\n",
              "    .dataframe thead th {\n",
              "        text-align: right;\n",
              "    }\n",
              "</style>\n",
              "<table border=\"1\" class=\"dataframe\">\n",
              "  <thead>\n",
              "    <tr style=\"text-align: right;\">\n",
              "      <th></th>\n",
              "      <th>admit</th>\n",
              "      <th>gre</th>\n",
              "      <th>gpa</th>\n",
              "      <th>rank</th>\n",
              "    </tr>\n",
              "  </thead>\n",
              "  <tbody>\n",
              "    <tr>\n",
              "      <th>admit</th>\n",
              "      <td>1.000000</td>\n",
              "      <td>0.184434</td>\n",
              "      <td>0.178212</td>\n",
              "      <td>-0.242513</td>\n",
              "    </tr>\n",
              "    <tr>\n",
              "      <th>gre</th>\n",
              "      <td>0.184434</td>\n",
              "      <td>1.000000</td>\n",
              "      <td>0.384266</td>\n",
              "      <td>-0.123447</td>\n",
              "    </tr>\n",
              "    <tr>\n",
              "      <th>gpa</th>\n",
              "      <td>0.178212</td>\n",
              "      <td>0.384266</td>\n",
              "      <td>1.000000</td>\n",
              "      <td>-0.057461</td>\n",
              "    </tr>\n",
              "    <tr>\n",
              "      <th>rank</th>\n",
              "      <td>-0.242513</td>\n",
              "      <td>-0.123447</td>\n",
              "      <td>-0.057461</td>\n",
              "      <td>1.000000</td>\n",
              "    </tr>\n",
              "  </tbody>\n",
              "</table>\n",
              "</div>"
            ],
            "text/plain": [
              "          admit       gre       gpa      rank\n",
              "admit  1.000000  0.184434  0.178212 -0.242513\n",
              "gre    0.184434  1.000000  0.384266 -0.123447\n",
              "gpa    0.178212  0.384266  1.000000 -0.057461\n",
              "rank  -0.242513 -0.123447 -0.057461  1.000000"
            ]
          },
          "metadata": {},
          "execution_count": 295
        }
      ]
    },
    {
      "cell_type": "code",
      "metadata": {
        "colab": {
          "base_uri": "https://localhost:8080/"
        },
        "id": "V4kIGAjiXZPK",
        "outputId": "3f927208-207e-4609-cacb-5cb5286f074c"
      },
      "source": [
        "df[\"rank\"].describe()"
      ],
      "execution_count": 296,
      "outputs": [
        {
          "output_type": "execute_result",
          "data": {
            "text/plain": [
              "count    400.00000\n",
              "mean       2.48500\n",
              "std        0.94446\n",
              "min        1.00000\n",
              "25%        2.00000\n",
              "50%        2.00000\n",
              "75%        3.00000\n",
              "max        4.00000\n",
              "Name: rank, dtype: float64"
            ]
          },
          "metadata": {},
          "execution_count": 296
        }
      ]
    },
    {
      "cell_type": "code",
      "metadata": {
        "colab": {
          "base_uri": "https://localhost:8080/",
          "height": 296
        },
        "id": "M1O22gn4XZPL",
        "outputId": "03784506-4181-46f7-fcf2-57d505b47d99"
      },
      "source": [
        "import seaborn as sns\n",
        "sns.countplot(x=\"admit\",data=df)"
      ],
      "execution_count": 297,
      "outputs": [
        {
          "output_type": "execute_result",
          "data": {
            "text/plain": [
              "<matplotlib.axes._subplots.AxesSubplot at 0x7fe3e76b0450>"
            ]
          },
          "metadata": {},
          "execution_count": 297
        },
        {
          "output_type": "display_data",
          "data": {
            "image/png": "[encoded data removed]",
            "text/plain": [
              "<Figure size 432x288 with 1 Axes>"
            ]
          },
          "metadata": {
            "needs_background": "light"
          }
        }
      ]
    },
    {
      "cell_type": "code",
      "metadata": {
        "colab": {
          "base_uri": "https://localhost:8080/",
          "height": 296
        },
        "id": "w9Y8Nzf4XZPM",
        "outputId": "695b0398-6a9a-483a-cef4-a305abeded97"
      },
      "source": [
        "sns.countplot(x=\"rank\",data=df)     #for discreet data we can do countplot or histogram"
      ],
      "execution_count": 298,
      "outputs": [
        {
          "output_type": "execute_result",
          "data": {
            "text/plain": [
              "<matplotlib.axes._subplots.AxesSubplot at 0x7fe3e7638f10>"
            ]
          },
          "metadata": {},
          "execution_count": 298
        },
        {
          "output_type": "display_data",
          "data": {
            "image/png": "[encoded data removed]",
            "text/plain": [
              "<Figure size 432x288 with 1 Axes>"
            ]
          },
          "metadata": {
            "needs_background": "light"
          }
        }
      ]
    },
    {
      "cell_type": "code",
      "metadata": {
        "colab": {
          "base_uri": "https://localhost:8080/",
          "height": 350
        },
        "id": "rj_N8LGwb-AX",
        "outputId": "78ef7aaf-1a27-4e9f-ae19-c9e45f315aa5"
      },
      "source": [
        "sns.distplot(df[\"gpa\"])  #distribution plot for comtinuous variable"
      ],
      "execution_count": 299,
      "outputs": [
        {
          "output_type": "stream",
          "name": "stderr",
          "text": [
            "/usr/local/lib/python3.7/dist-packages/seaborn/distributions.py:2619: FutureWarning: `distplot` is a deprecated function and will be removed in a future version. Please adapt your code to use either `displot` (a figure-level function with similar flexibility) or `histplot` (an axes-level function for histograms).\n",
            "  warnings.warn(msg, FutureWarning)\n"
          ]
        },
        {
          "output_type": "execute_result",
          "data": {
            "text/plain": [
              "<matplotlib.axes._subplots.AxesSubplot at 0x7fe3e75c2650>"
            ]
          },
          "metadata": {},
          "execution_count": 299
        },
        {
          "output_type": "display_data",
          "data": {
            "image/png": "[encoded data removed]",
            "text/plain": [
              "<Figure size 432x288 with 1 Axes>"
            ]
          },
          "metadata": {
            "needs_background": "light"
          }
        }
      ]
    },
    {
      "cell_type": "code",
      "metadata": {
        "colab": {
          "base_uri": "https://localhost:8080/"
        },
        "id": "mO5ulDVtXZPN",
        "outputId": "3a232259-8fb5-4ada-8fe3-353d354a570c"
      },
      "source": [
        "df[\"rank\"].value_counts()"
      ],
      "execution_count": 300,
      "outputs": [
        {
          "output_type": "execute_result",
          "data": {
            "text/plain": [
              "2    151\n",
              "3    121\n",
              "4     67\n",
              "1     61\n",
              "Name: rank, dtype: int64"
            ]
          },
          "metadata": {},
          "execution_count": 300
        }
      ]
    },
    {
      "cell_type": "code",
      "metadata": {
        "colab": {
          "base_uri": "https://localhost:8080/"
        },
        "id": "1TYIJYGiXZPP",
        "outputId": "7b65efe8-2531-4c0e-d7bd-56f5c898febc"
      },
      "source": [
        "df[\"rank\"].unique()"
      ],
      "execution_count": 301,
      "outputs": [
        {
          "output_type": "execute_result",
          "data": {
            "text/plain": [
              "array([3, 1, 4, 2])"
            ]
          },
          "metadata": {},
          "execution_count": 301
        }
      ]
    },
    {
      "cell_type": "code",
      "metadata": {
        "colab": {
          "base_uri": "https://localhost:8080/",
          "height": 203
        },
        "id": "1-gGI7TVXZPR",
        "outputId": "9cab011c-eba6-4af7-9825-1183531f565d"
      },
      "source": [
        "pd.crosstab(df[\"rank\"],df[\"admit\"])"
      ],
      "execution_count": 302,
      "outputs": [
        {
          "output_type": "execute_result",
          "data": {
            "text/html": [
              "<div>\n",
              "<style scoped>\n",
              "    .dataframe tbody tr th:only-of-type {\n",
              "        vertical-align: middle;\n",
              "    }\n",
              "\n",
              "    .dataframe tbody tr th {\n",
              "        vertical-align: top;\n",
              "    }\n",
              "\n",
              "    .dataframe thead th {\n",
              "        text-align: right;\n",
              "    }\n",
              "</style>\n",
              "<table border=\"1\" class=\"dataframe\">\n",
              "  <thead>\n",
              "    <tr style=\"text-align: right;\">\n",
              "      <th>admit</th>\n",
              "      <th>0</th>\n",
              "      <th>1</th>\n",
              "    </tr>\n",
              "    <tr>\n",
              "      <th>rank</th>\n",
              "      <th></th>\n",
              "      <th></th>\n",
              "    </tr>\n",
              "  </thead>\n",
              "  <tbody>\n",
              "    <tr>\n",
              "      <th>1</th>\n",
              "      <td>28</td>\n",
              "      <td>33</td>\n",
              "    </tr>\n",
              "    <tr>\n",
              "      <th>2</th>\n",
              "      <td>97</td>\n",
              "      <td>54</td>\n",
              "    </tr>\n",
              "    <tr>\n",
              "      <th>3</th>\n",
              "      <td>93</td>\n",
              "      <td>28</td>\n",
              "    </tr>\n",
              "    <tr>\n",
              "      <th>4</th>\n",
              "      <td>55</td>\n",
              "      <td>12</td>\n",
              "    </tr>\n",
              "  </tbody>\n",
              "</table>\n",
              "</div>"
            ],
            "text/plain": [
              "admit   0   1\n",
              "rank         \n",
              "1      28  33\n",
              "2      97  54\n",
              "3      93  28\n",
              "4      55  12"
            ]
          },
          "metadata": {},
          "execution_count": 302
        }
      ]
    },
    {
      "cell_type": "code",
      "metadata": {
        "id": "HVZFQ-aJXZPS"
      },
      "source": [
        "\n",
        "#Splitting independent data and targeted data as test and train\n",
        "from sklearn.model_selection import train_test_split\n",
        "\n",
        "from sklearn import metrics\n",
        "\n"
      ],
      "execution_count": 303,
      "outputs": []
    },
    {
      "cell_type": "code",
      "metadata": {
        "id": "Ux3PZMvcXZPT"
      },
      "source": [
        "\n",
        "#Splitting independent data and targeted data as test and train\n",
        "X_train, X_test, Y_train, Y_test= train_test_split(df[[\"gpa\",\"gre\",\"rank\"]],\n",
        "                                                   df[[\"admit\"]],test_size=0.1,\n",
        "                                                   random_state=66)\n",
        "#random_state is used to fixed the first state, if it's not present we'll get different o/p everytime when we run the model\n",
        "#use to control random dataset generated for training an test-- it fixed training and test data, also any random no. can put in place of 66"
      ],
      "execution_count": 304,
      "outputs": []
    },
    {
      "cell_type": "code",
      "metadata": {
        "colab": {
          "base_uri": "https://localhost:8080/"
        },
        "id": "N4oZV3FuYukr",
        "outputId": "a1c0f3f8-2e3f-4800-ed9b-4bcbf33f4f87"
      },
      "source": [
        "X_train.shape #--80% to total rows, to find the size of X_train"
      ],
      "execution_count": 305,
      "outputs": [
        {
          "output_type": "execute_result",
          "data": {
            "text/plain": [
              "(360, 3)"
            ]
          },
          "metadata": {},
          "execution_count": 305
        }
      ]
    },
    {
      "cell_type": "code",
      "metadata": {
        "id": "rsTApDBYXZPU"
      },
      "source": [
        "from sklearn.neighbors import KNeighborsClassifier\n",
        "clf_entropy=KNeighborsClassifier(n_neighbors=16, p=1, weights='uniform') "
      ],
      "execution_count": 306,
      "outputs": []
    },
    {
      "cell_type": "code",
      "metadata": {
        "colab": {
          "base_uri": "https://localhost:8080/"
        },
        "id": "HoiY9YEIXZPV",
        "outputId": "e3b59d9e-cae1-4f7c-d042-5e5f73ac7d5e"
      },
      "source": [
        "clf_entropy.fit(X_train,Y_train)"
      ],
      "execution_count": 307,
      "outputs": [
        {
          "output_type": "stream",
          "name": "stderr",
          "text": [
            "/usr/local/lib/python3.7/dist-packages/ipykernel_launcher.py:1: DataConversionWarning: A column-vector y was passed when a 1d array was expected. Please change the shape of y to (n_samples, ), for example using ravel().\n",
            "  \"\"\"Entry point for launching an IPython kernel.\n"
          ]
        },
        {
          "output_type": "execute_result",
          "data": {
            "text/plain": [
              "KNeighborsClassifier(algorithm='auto', leaf_size=30, metric='minkowski',\n",
              "                     metric_params=None, n_jobs=None, n_neighbors=16, p=1,\n",
              "                     weights='uniform')"
            ]
          },
          "metadata": {},
          "execution_count": 307
        }
      ]
    },
    {
      "cell_type": "code",
      "metadata": {
        "id": "hRT72XGcXZPW"
      },
      "source": [
        "#predicting test data values for clf_entropy model\n",
        "predicted_entropy = clf_entropy.predict(X_test)"
      ],
      "execution_count": 308,
      "outputs": []
    },
    {
      "cell_type": "code",
      "metadata": {
        "scrolled": false,
        "colab": {
          "base_uri": "https://localhost:8080/"
        },
        "id": "ojgYM2bMXZPW",
        "outputId": "63eb9851-4d4f-4751-dccf-a330033389d3"
      },
      "source": [
        "#Confusion Matrix\n",
        "from  sklearn.metrics import confusion_matrix \n",
        "cM = confusion_matrix(Y_test,predicted_entropy)\n",
        "print(cM)\n",
        "#generic matrix\n",
        "tp, fp, fn, tn = cM.ravel()\n",
        "recall = tp/(tp+fn)\n",
        "precision=tp/(tp+fp)\n",
        "print(\"Recall = Sensitivity = \",tp/(tp+fn))\n",
        "print(\"Specificity =\", tn/(tn+fp))\n",
        "print(\"Accuracy=\",(tp+tn)/(tp+tn+fp+fn))\n",
        "print(\"Precision=\",tp/(tp+fp))\n",
        "f1score= 2 *(recall*precision)/(precision+recall)\n",
        "print(\"f1 score=\", f1score)\n",
        "\n",
        "#accuracy and recall should be good\n"
      ],
      "execution_count": 309,
      "outputs": [
        {
          "output_type": "stream",
          "name": "stdout",
          "text": [
            "[[29  0]\n",
            " [10  1]]\n",
            "Recall = Sensitivity =  0.7435897435897436\n",
            "Specificity = 1.0\n",
            "Accuracy= 0.75\n",
            "Precision= 1.0\n",
            "f1 score= 0.8529411764705882\n"
          ]
        }
      ]
    },
    {
      "cell_type": "code",
      "metadata": {
        "id": "7ndrtTFlXZPX"
      },
      "source": [
        ""
      ],
      "execution_count": 309,
      "outputs": []
    }
  ]
}